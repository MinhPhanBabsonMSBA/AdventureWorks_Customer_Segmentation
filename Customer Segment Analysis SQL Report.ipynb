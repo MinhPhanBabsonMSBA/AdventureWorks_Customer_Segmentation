{
    "metadata": {
        "kernelspec": {
            "name": "SQL",
            "display_name": "SQL",
            "language": "sql"
        },
        "language_info": {
            "name": "sql",
            "version": ""
        }
    },
    "nbformat_minor": 2,
    "nbformat": 4,
    "cells": [
        {
            "cell_type": "markdown",
            "source": [
                "# **Customer Segmentation Analysis SQL Project**\n",
                "\n",
                "**Database: AdventureWorks 2012**\n",
                "\n",
                "**Scenario**:\n",
                "\n",
                "- AdventureWorks aims to enhance its marketing strategy by segmenting its customer base.\n",
                "- The analyst team will conduct a comprehensive customer segmentation analysis using data on purchasing behaviors, preferences, geographic locations, and trends.\n",
                "- The analysis will identify distinct customer segments and develop deeper insights into each segment.\n",
                "- Insights will include patterns in purchasing frequency, product preferences, and geographical trends."
            ],
            "metadata": {
                "azdata_cell_guid": "0e6878a8-cd09-4793-8032-d27a5fcb3e26"
            },
            "attachments": {}
        },
        {
            "cell_type": "markdown",
            "source": [
                "### **1. Grouping Customers in 3 Spenders Group based on their Total spend in US Dollars ( High, Medium, and Low)**"
            ],
            "metadata": {
                "azdata_cell_guid": "d9e5afd7-34e0-4961-92c8-85211cf57d61"
            },
            "attachments": {}
        },
        {
            "cell_type": "markdown",
            "source": [
                "### **High Group (Total spend of more than 5000 US dollars)**"
            ],
            "metadata": {
                "azdata_cell_guid": "2b07d981-9e0b-40c7-aa3f-549aec2bfb2f"
            },
            "attachments": {}
        },
        {
            "cell_type": "code",
            "source": [
                "SELECT TOP(10)\n",
                "    c.CustomerID,\n",
                "    SUM(s.TotalDue) AS TotalSpent,\n",
                "    'High Spender' AS SpendingSegment\n",
                "FROM \n",
                "    Sales.Customer c\n",
                "    JOIN Sales.SalesOrderHeader s ON c.CustomerID = s.CustomerID\n",
                "GROUP BY \n",
                "    c.CustomerID\n",
                "HAVING \n",
                "    SUM(s.TotalDue) > 5000"
            ],
            "metadata": {
                "azdata_cell_guid": "ad04e8e6-3967-4b68-aa69-8c7a7c4cd1b5",
                "language": "sql",
                "tags": []
            },
            "outputs": [
                {
                    "output_type": "display_data",
                    "data": {
                        "text/html": "(10 rows affected)"
                    },
                    "metadata": {}
                },
                {
                    "output_type": "display_data",
                    "data": {
                        "text/html": "Total execution time: 00:00:00.066"
                    },
                    "metadata": {}
                },
                {
                    "output_type": "execute_result",
                    "metadata": {},
                    "execution_count": 30,
                    "data": {
                        "application/vnd.dataresource+json": {
                            "schema": {
                                "fields": [
                                    {
                                        "name": "CustomerID"
                                    },
                                    {
                                        "name": "TotalSpent"
                                    },
                                    {
                                        "name": "SpendingSegment"
                                    }
                                ]
                            },
                            "data": [
                                {
                                    "CustomerID": "11000",
                                    "TotalSpent": "9115.1341",
                                    "SpendingSegment": "High Spender"
                                },
                                {
                                    "CustomerID": "11001",
                                    "TotalSpent": "7054.1875",
                                    "SpendingSegment": "High Spender"
                                },
                                {
                                    "CustomerID": "11002",
                                    "TotalSpent": "8966.0143",
                                    "SpendingSegment": "High Spender"
                                },
                                {
                                    "CustomerID": "11003",
                                    "TotalSpent": "8993.9155",
                                    "SpendingSegment": "High Spender"
                                },
                                {
                                    "CustomerID": "11004",
                                    "TotalSpent": "9056.5911",
                                    "SpendingSegment": "High Spender"
                                },
                                {
                                    "CustomerID": "11005",
                                    "TotalSpent": "8974.0698",
                                    "SpendingSegment": "High Spender"
                                },
                                {
                                    "CustomerID": "11006",
                                    "TotalSpent": "8971.5283",
                                    "SpendingSegment": "High Spender"
                                },
                                {
                                    "CustomerID": "11007",
                                    "TotalSpent": "9073.1551",
                                    "SpendingSegment": "High Spender"
                                },
                                {
                                    "CustomerID": "11008",
                                    "TotalSpent": "8957.4726",
                                    "SpendingSegment": "High Spender"
                                },
                                {
                                    "CustomerID": "11009",
                                    "TotalSpent": "8940.9197",
                                    "SpendingSegment": "High Spender"
                                }
                            ]
                        },
                        "text/html": [
                            "<table>",
                            "<tr><th>CustomerID</th><th>TotalSpent</th><th>SpendingSegment</th></tr>",
                            "<tr><td>11000</td><td>9115.1341</td><td>High Spender</td></tr>",
                            "<tr><td>11001</td><td>7054.1875</td><td>High Spender</td></tr>",
                            "<tr><td>11002</td><td>8966.0143</td><td>High Spender</td></tr>",
                            "<tr><td>11003</td><td>8993.9155</td><td>High Spender</td></tr>",
                            "<tr><td>11004</td><td>9056.5911</td><td>High Spender</td></tr>",
                            "<tr><td>11005</td><td>8974.0698</td><td>High Spender</td></tr>",
                            "<tr><td>11006</td><td>8971.5283</td><td>High Spender</td></tr>",
                            "<tr><td>11007</td><td>9073.1551</td><td>High Spender</td></tr>",
                            "<tr><td>11008</td><td>8957.4726</td><td>High Spender</td></tr>",
                            "<tr><td>11009</td><td>8940.9197</td><td>High Spender</td></tr>",
                            "</table>"
                        ]
                    }
                }
            ],
            "execution_count": 30
        },
        {
            "cell_type": "markdown",
            "source": [
                "I choose the **Frequency of Purchases** as a metric to analyze and attempt to narrow down the **Top 5 High Spender Order** By Purchase Frequency and Total spend in a decreasing Order"
            ],
            "metadata": {
                "azdata_cell_guid": "3483bec1-ea7b-48dd-b803-711e58712229"
            },
            "attachments": {}
        },
        {
            "cell_type": "code",
            "source": [
                "\n",
                "SELECT TOP (5)\n",
                "    c.CustomerID,\n",
                "    COUNT(s.SalesOrderID) AS PurchaseFrequency,\n",
                "    SUM(s.TotalDue) AS TotalSpent,\n",
                "    'High Spender' AS SpendingSegment\n",
                "FROM \n",
                "    Sales.Customer c\n",
                "    JOIN Sales.SalesOrderHeader s ON c.CustomerID = s.CustomerID\n",
                "GROUP BY \n",
                "    c.CustomerID\n",
                "HAVING \n",
                "    SUM(s.TotalDue) > 5000\n",
                "ORDER BY PurchaseFrequency DESC, TotalSpent DESC\n",
                ";\n",
                ""
            ],
            "metadata": {
                "azdata_cell_guid": "8f0dae6d-25ed-4ed3-89fb-9750388ce616",
                "language": "sql"
            },
            "outputs": [
                {
                    "output_type": "display_data",
                    "data": {
                        "text/html": "(5 rows affected)"
                    },
                    "metadata": {}
                },
                {
                    "output_type": "display_data",
                    "data": {
                        "text/html": "Total execution time: 00:00:00.175"
                    },
                    "metadata": {}
                },
                {
                    "output_type": "execute_result",
                    "metadata": {},
                    "execution_count": 36,
                    "data": {
                        "application/vnd.dataresource+json": {
                            "schema": {
                                "fields": [
                                    {
                                        "name": "CustomerID"
                                    },
                                    {
                                        "name": "PurchaseFrequency"
                                    },
                                    {
                                        "name": "TotalSpent"
                                    },
                                    {
                                        "name": "SpendingSegment"
                                    }
                                ]
                            },
                            "data": [
                                {
                                    "CustomerID": "29818",
                                    "PurchaseFrequency": "12",
                                    "TotalSpent": "989184.082",
                                    "SpendingSegment": "High Spender"
                                },
                                {
                                    "CustomerID": "29715",
                                    "PurchaseFrequency": "12",
                                    "TotalSpent": "961675.8596",
                                    "SpendingSegment": "High Spender"
                                },
                                {
                                    "CustomerID": "29722",
                                    "PurchaseFrequency": "12",
                                    "TotalSpent": "954021.9235",
                                    "SpendingSegment": "High Spender"
                                },
                                {
                                    "CustomerID": "30117",
                                    "PurchaseFrequency": "12",
                                    "TotalSpent": "919801.8188",
                                    "SpendingSegment": "High Spender"
                                },
                                {
                                    "CustomerID": "29614",
                                    "PurchaseFrequency": "12",
                                    "TotalSpent": "901346.856",
                                    "SpendingSegment": "High Spender"
                                }
                            ]
                        },
                        "text/html": [
                            "<table>",
                            "<tr><th>CustomerID</th><th>PurchaseFrequency</th><th>TotalSpent</th><th>SpendingSegment</th></tr>",
                            "<tr><td>29818</td><td>12</td><td>989184.082</td><td>High Spender</td></tr>",
                            "<tr><td>29715</td><td>12</td><td>961675.8596</td><td>High Spender</td></tr>",
                            "<tr><td>29722</td><td>12</td><td>954021.9235</td><td>High Spender</td></tr>",
                            "<tr><td>30117</td><td>12</td><td>919801.8188</td><td>High Spender</td></tr>",
                            "<tr><td>29614</td><td>12</td><td>901346.856</td><td>High Spender</td></tr>",
                            "</table>"
                        ]
                    }
                }
            ],
            "execution_count": 36
        },
        {
            "cell_type": "markdown",
            "source": [
                "### <mark>Insights</mark>: **12** is the **highest** value for the Frequency of Purchases and the **highest** **Total spend** is about **989184.082 US Dollars**"
            ],
            "metadata": {
                "azdata_cell_guid": "69c7d253-dfc6-4ed5-b0b5-45648ac5985e"
            },
            "attachments": {}
        },
        {
            "cell_type": "markdown",
            "source": [
                "<span style=\"color: rgb(0, 0, 0); font-size: 12pt; line-height: 18.4px; font-family: Aptos, sans-serif;\">Moving to label the <b>Territory</b> for the High Spender Group</span>"
            ],
            "metadata": {
                "azdata_cell_guid": "7e1eac7e-4198-4058-a921-a26cc8bee841"
            },
            "attachments": {}
        },
        {
            "cell_type": "code",
            "source": [
                "    WITH HighSpenders AS (\n",
                "    SELECT TOP (10)\n",
                "        c.CustomerID,\n",
                "        COUNT(s.SalesOrderID) AS PurchaseFrequency,\n",
                "        SUM(s.TotalDue) AS TotalSpent,\n",
                "        'High Spender' AS SpendingSegment\n",
                "    FROM \n",
                "        Sales.Customer c\n",
                "        JOIN Sales.SalesOrderHeader s ON c.CustomerID = s.CustomerID\n",
                "    GROUP BY \n",
                "        c.CustomerID\n",
                "    HAVING \n",
                "        SUM(s.TotalDue) > 5000\n",
                ")\n",
                "SELECT \n",
                "    hs.CustomerID,\n",
                "    hs.PurchaseFrequency,\n",
                "    hs.TotalSpent,\n",
                "    st.Name AS Territory\n",
                "FROM \n",
                "    HighSpenders hs\n",
                "    JOIN Sales.Customer c ON hs.CustomerID = c.CustomerID\n",
                "    JOIN Sales.SalesTerritory st ON c.TerritoryID = st.TerritoryID;"
            ],
            "metadata": {
                "azdata_cell_guid": "97b7561d-83b8-4780-bc84-01b0a72b311c",
                "language": "sql"
            },
            "outputs": [
                {
                    "output_type": "display_data",
                    "data": {
                        "text/html": "(10 rows affected)"
                    },
                    "metadata": {}
                },
                {
                    "output_type": "display_data",
                    "data": {
                        "text/html": "Total execution time: 00:00:00.049"
                    },
                    "metadata": {}
                },
                {
                    "output_type": "execute_result",
                    "metadata": {},
                    "execution_count": 41,
                    "data": {
                        "application/vnd.dataresource+json": {
                            "schema": {
                                "fields": [
                                    {
                                        "name": "CustomerID"
                                    },
                                    {
                                        "name": "PurchaseFrequency"
                                    },
                                    {
                                        "name": "TotalSpent"
                                    },
                                    {
                                        "name": "Territory"
                                    }
                                ]
                            },
                            "data": [
                                {
                                    "CustomerID": "11000",
                                    "PurchaseFrequency": "3",
                                    "TotalSpent": "9115.1341",
                                    "Territory": "Australia"
                                },
                                {
                                    "CustomerID": "11001",
                                    "PurchaseFrequency": "3",
                                    "TotalSpent": "7054.1875",
                                    "Territory": "Australia"
                                },
                                {
                                    "CustomerID": "11002",
                                    "PurchaseFrequency": "3",
                                    "TotalSpent": "8966.0143",
                                    "Territory": "Australia"
                                },
                                {
                                    "CustomerID": "11003",
                                    "PurchaseFrequency": "3",
                                    "TotalSpent": "8993.9155",
                                    "Territory": "Australia"
                                },
                                {
                                    "CustomerID": "11004",
                                    "PurchaseFrequency": "3",
                                    "TotalSpent": "9056.5911",
                                    "Territory": "Australia"
                                },
                                {
                                    "CustomerID": "11005",
                                    "PurchaseFrequency": "3",
                                    "TotalSpent": "8974.0698",
                                    "Territory": "Australia"
                                },
                                {
                                    "CustomerID": "11006",
                                    "PurchaseFrequency": "3",
                                    "TotalSpent": "8971.5283",
                                    "Territory": "Australia"
                                },
                                {
                                    "CustomerID": "11007",
                                    "PurchaseFrequency": "3",
                                    "TotalSpent": "9073.1551",
                                    "Territory": "Australia"
                                },
                                {
                                    "CustomerID": "11008",
                                    "PurchaseFrequency": "3",
                                    "TotalSpent": "8957.4726",
                                    "Territory": "Australia"
                                },
                                {
                                    "CustomerID": "11009",
                                    "PurchaseFrequency": "3",
                                    "TotalSpent": "8940.9197",
                                    "Territory": "Australia"
                                }
                            ]
                        },
                        "text/html": [
                            "<table>",
                            "<tr><th>CustomerID</th><th>PurchaseFrequency</th><th>TotalSpent</th><th>Territory</th></tr>",
                            "<tr><td>11000</td><td>3</td><td>9115.1341</td><td>Australia</td></tr>",
                            "<tr><td>11001</td><td>3</td><td>7054.1875</td><td>Australia</td></tr>",
                            "<tr><td>11002</td><td>3</td><td>8966.0143</td><td>Australia</td></tr>",
                            "<tr><td>11003</td><td>3</td><td>8993.9155</td><td>Australia</td></tr>",
                            "<tr><td>11004</td><td>3</td><td>9056.5911</td><td>Australia</td></tr>",
                            "<tr><td>11005</td><td>3</td><td>8974.0698</td><td>Australia</td></tr>",
                            "<tr><td>11006</td><td>3</td><td>8971.5283</td><td>Australia</td></tr>",
                            "<tr><td>11007</td><td>3</td><td>9073.1551</td><td>Australia</td></tr>",
                            "<tr><td>11008</td><td>3</td><td>8957.4726</td><td>Australia</td></tr>",
                            "<tr><td>11009</td><td>3</td><td>8940.9197</td><td>Australia</td></tr>",
                            "</table>"
                        ]
                    }
                }
            ],
            "execution_count": 41
        },
        {
            "cell_type": "markdown",
            "source": [
                "### **Table of all High Spender Territories and each territory spending order b<mark></mark>y spending in descending order**"
            ],
            "metadata": {
                "azdata_cell_guid": "48ab12a5-ee21-4c6e-a732-093c32cfda33"
            },
            "attachments": {}
        },
        {
            "cell_type": "code",
            "source": [
                "WITH HighSpenders AS (\n",
                "    SELECT \n",
                "        c.CustomerID,\n",
                "        SUM(s.TotalDue) AS TotalSpent\n",
                "    FROM \n",
                "        Sales.Customer c\n",
                "        JOIN Sales.SalesOrderHeader s ON c.CustomerID = s.CustomerID\n",
                "    GROUP BY \n",
                "        c.CustomerID\n",
                "    HAVING \n",
                "        SUM(s.TotalDue) > 5000\n",
                ")\n",
                "SELECT \n",
                "    st.Name AS Territory,\n",
                "    SUM(hs.TotalSpent) AS TotalTerritorySpend\n",
                "FROM \n",
                "    HighSpenders hs\n",
                "    JOIN Sales.Customer c ON hs.CustomerID = c.CustomerID\n",
                "    JOIN Sales.SalesTerritory st ON c.TerritoryID = st.TerritoryID\n",
                "GROUP BY \n",
                "    st.Name\n",
                "ORDER BY \n",
                "    TotalTerritorySpend DESC;\n",
                "\n",
                ""
            ],
            "metadata": {
                "azdata_cell_guid": "c70888b8-8412-48ea-9336-5dff183cb18d",
                "language": "sql"
            },
            "outputs": [
                {
                    "output_type": "display_data",
                    "data": {
                        "text/html": "(10 rows affected)"
                    },
                    "metadata": {}
                },
                {
                    "output_type": "display_data",
                    "data": {
                        "text/html": "Total execution time: 00:00:00.099"
                    },
                    "metadata": {}
                },
                {
                    "output_type": "execute_result",
                    "metadata": {},
                    "execution_count": 37,
                    "data": {
                        "application/vnd.dataresource+json": {
                            "schema": {
                                "fields": [
                                    {
                                        "name": "Territory"
                                    },
                                    {
                                        "name": "TotalTerritorySpend"
                                    }
                                ]
                            },
                            "data": [
                                {
                                    "Territory": "Southwest",
                                    "TotalTerritorySpend": "22876346.2823"
                                },
                                {
                                    "Territory": "Canada",
                                    "TotalTerritorySpend": "16976927.9566"
                                },
                                {
                                    "Territory": "Northwest",
                                    "TotalTerritorySpend": "15291328.3606"
                                },
                                {
                                    "Territory": "Central",
                                    "TotalTerritorySpend": "8880877.6209"
                                },
                                {
                                    "Territory": "Southeast",
                                    "TotalTerritorySpend": "8845085.7254"
                                },
                                {
                                    "Territory": "Australia",
                                    "TotalTerritorySpend": "7944540.9649"
                                },
                                {
                                    "Territory": "Northeast",
                                    "TotalTerritorySpend": "7801402.5234"
                                },
                                {
                                    "Territory": "United Kingdom",
                                    "TotalTerritorySpend": "6911153.1357"
                                },
                                {
                                    "Territory": "France",
                                    "TotalTerritorySpend": "6677176.8792"
                                },
                                {
                                    "Territory": "Germany",
                                    "TotalTerritorySpend": "3666771.0083"
                                }
                            ]
                        },
                        "text/html": [
                            "<table>",
                            "<tr><th>Territory</th><th>TotalTerritorySpend</th></tr>",
                            "<tr><td>Southwest</td><td>22876346.2823</td></tr>",
                            "<tr><td>Canada</td><td>16976927.9566</td></tr>",
                            "<tr><td>Northwest</td><td>15291328.3606</td></tr>",
                            "<tr><td>Central</td><td>8880877.6209</td></tr>",
                            "<tr><td>Southeast</td><td>8845085.7254</td></tr>",
                            "<tr><td>Australia</td><td>7944540.9649</td></tr>",
                            "<tr><td>Northeast</td><td>7801402.5234</td></tr>",
                            "<tr><td>United Kingdom</td><td>6911153.1357</td></tr>",
                            "<tr><td>France</td><td>6677176.8792</td></tr>",
                            "<tr><td>Germany</td><td>3666771.0083</td></tr>",
                            "</table>"
                        ]
                    }
                }
            ],
            "execution_count": 37
        },
        {
            "cell_type": "markdown",
            "source": [
                "### <mark>Insight</mark>: **Southwest, Canada, and Northwest** are the top 3 Territories based on their Total Territories Spending in US Dollars."
            ],
            "metadata": {
                "azdata_cell_guid": "c2214349-840a-4cfe-a76e-1ebc7fa2ed41"
            },
            "attachments": {}
        },
        {
            "cell_type": "markdown",
            "source": [
                "###  **Prefered Product Categories in the Southwest, Canada, and Northwest territories and their corresponding total spend in each category**"
            ],
            "metadata": {
                "azdata_cell_guid": "07c83368-e458-4230-aa8d-18d364a1e209"
            },
            "attachments": {}
        },
        {
            "cell_type": "code",
            "source": [
                "WITH HighSpenders AS (\n",
                "    SELECT \n",
                "        c.CustomerID,\n",
                "        SUM(s.TotalDue) AS TotalSpent\n",
                "    FROM \n",
                "        Sales.Customer c\n",
                "        JOIN Sales.SalesOrderHeader s ON c.CustomerID = s.CustomerID\n",
                "    GROUP BY \n",
                "        c.CustomerID\n",
                "    HAVING \n",
                "        SUM(s.TotalDue) > 5000\n",
                ")\n",
                "SELECT \n",
                "    st.Name AS Territory,\n",
                "    pc.Name AS ProductCategory,\n",
                "    SUM(sd.LineTotal) AS TotalSpentInCategory\n",
                "FROM \n",
                "    HighSpenders hs\n",
                "    JOIN Sales.Customer c ON hs.CustomerID = c.CustomerID\n",
                "    JOIN Sales.SalesOrderHeader soh ON c.CustomerID = soh.CustomerID\n",
                "    JOIN Sales.SalesOrderDetail sd ON soh.SalesOrderID = sd.SalesOrderID\n",
                "    JOIN Production.Product p ON sd.ProductID = p.ProductID\n",
                "    JOIN Production.ProductSubcategory psc ON p.ProductSubcategoryID = psc.ProductSubcategoryID\n",
                "    JOIN Production.ProductCategory pc ON psc.ProductCategoryID = pc.ProductCategoryID\n",
                "    JOIN Sales.SalesTerritory st ON c.TerritoryID = st.TerritoryID\n",
                "WHERE \n",
                "    st.Name IN ('Southwest', 'Canada', 'Northwest')\n",
                "GROUP BY \n",
                "    st.Name, pc.Name\n",
                "ORDER BY \n",
                "    st.Name, TotalSpentInCategory DESC;"
            ],
            "metadata": {
                "azdata_cell_guid": "29d42904-bcfa-4bdf-9966-167a1f316c57",
                "language": "sql",
                "tags": []
            },
            "outputs": [
                {
                    "output_type": "display_data",
                    "data": {
                        "text/html": "(12 rows affected)"
                    },
                    "metadata": {}
                },
                {
                    "output_type": "display_data",
                    "data": {
                        "text/html": "Total execution time: 00:00:00.350"
                    },
                    "metadata": {}
                },
                {
                    "output_type": "execute_result",
                    "metadata": {},
                    "execution_count": 42,
                    "data": {
                        "application/vnd.dataresource+json": {
                            "schema": {
                                "fields": [
                                    {
                                        "name": "Territory"
                                    },
                                    {
                                        "name": "ProductCategory"
                                    },
                                    {
                                        "name": "TotalSpentInCategory"
                                    }
                                ]
                            },
                            "data": [
                                {
                                    "Territory": "Canada",
                                    "ProductCategory": "Bikes",
                                    "TotalSpentInCategory": "12327288.476663"
                                },
                                {
                                    "Territory": "Canada",
                                    "ProductCategory": "Components",
                                    "TotalSpentInCategory": "2238010.117085"
                                },
                                {
                                    "Territory": "Canada",
                                    "ProductCategory": "Clothing",
                                    "TotalSpentInCategory": "379633.135576"
                                },
                                {
                                    "Territory": "Canada",
                                    "ProductCategory": "Accessories",
                                    "TotalSpentInCategory": "124487.796138"
                                },
                                {
                                    "Territory": "Northwest",
                                    "ProductCategory": "Bikes",
                                    "TotalSpentInCategory": "11543704.102689"
                                },
                                {
                                    "Territory": "Northwest",
                                    "ProductCategory": "Components",
                                    "TotalSpentInCategory": "1775327.952126"
                                },
                                {
                                    "Territory": "Northwest",
                                    "ProductCategory": "Clothing",
                                    "TotalSpentInCategory": "198113.001646"
                                },
                                {
                                    "Territory": "Northwest",
                                    "ProductCategory": "Accessories",
                                    "TotalSpentInCategory": "61047.368107"
                                },
                                {
                                    "Territory": "Southwest",
                                    "ProductCategory": "Bikes",
                                    "TotalSpentInCategory": "17155206.651618"
                                },
                                {
                                    "Territory": "Southwest",
                                    "ProductCategory": "Components",
                                    "TotalSpentInCategory": "2677034.023738"
                                },
                                {
                                    "Territory": "Southwest",
                                    "ProductCategory": "Clothing",
                                    "TotalSpentInCategory": "363404.062523"
                                },
                                {
                                    "Territory": "Southwest",
                                    "ProductCategory": "Accessories",
                                    "TotalSpentInCategory": "121528.734931"
                                }
                            ]
                        },
                        "text/html": [
                            "<table>",
                            "<tr><th>Territory</th><th>ProductCategory</th><th>TotalSpentInCategory</th></tr>",
                            "<tr><td>Canada</td><td>Bikes</td><td>12327288.476663</td></tr>",
                            "<tr><td>Canada</td><td>Components</td><td>2238010.117085</td></tr>",
                            "<tr><td>Canada</td><td>Clothing</td><td>379633.135576</td></tr>",
                            "<tr><td>Canada</td><td>Accessories</td><td>124487.796138</td></tr>",
                            "<tr><td>Northwest</td><td>Bikes</td><td>11543704.102689</td></tr>",
                            "<tr><td>Northwest</td><td>Components</td><td>1775327.952126</td></tr>",
                            "<tr><td>Northwest</td><td>Clothing</td><td>198113.001646</td></tr>",
                            "<tr><td>Northwest</td><td>Accessories</td><td>61047.368107</td></tr>",
                            "<tr><td>Southwest</td><td>Bikes</td><td>17155206.651618</td></tr>",
                            "<tr><td>Southwest</td><td>Components</td><td>2677034.023738</td></tr>",
                            "<tr><td>Southwest</td><td>Clothing</td><td>363404.062523</td></tr>",
                            "<tr><td>Southwest</td><td>Accessories</td><td>121528.734931</td></tr>",
                            "</table>"
                        ]
                    }
                }
            ],
            "execution_count": 42
        },
        {
            "cell_type": "markdown",
            "source": [
                "### <mark>Insight</mark>: **Bike** is the product that has the highest sales in **Southwest, Canada, and Northwest.**"
            ],
            "metadata": {
                "azdata_cell_guid": "6fadab34-e61c-4a2b-8c41-a566aa3880ba"
            },
            "attachments": {}
        },
        {
            "cell_type": "markdown",
            "source": [
                "### **Top 3 bikes models sales in Southwest**"
            ],
            "metadata": {
                "azdata_cell_guid": "c0466f10-9e84-4c9b-897e-2bdd6c11443a"
            },
            "attachments": {}
        },
        {
            "cell_type": "code",
            "source": [
                "WITH HighSpenders AS (\n",
                "    SELECT \n",
                "        c.CustomerID,\n",
                "        SUM(s.TotalDue) AS TotalSpent\n",
                "    FROM \n",
                "        Sales.Customer c\n",
                "        JOIN Sales.SalesOrderHeader s ON c.CustomerID = s.CustomerID\n",
                "    GROUP BY \n",
                "        c.CustomerID\n",
                "    HAVING \n",
                "        SUM(s.TotalDue) > 5000\n",
                ")\n",
                "SELECT TOP(3)\n",
                "    p.Name AS BikeModel,\n",
                "    SUM(sd.LineTotal) AS TotalSpentOnBike\n",
                "FROM \n",
                "    HighSpenders hs\n",
                "    JOIN Sales.Customer c ON hs.CustomerID = c.CustomerID\n",
                "    JOIN Sales.SalesOrderHeader soh ON c.CustomerID = soh.CustomerID\n",
                "    JOIN Sales.SalesOrderDetail sd ON soh.SalesOrderID = sd.SalesOrderID\n",
                "    JOIN Production.Product p ON sd.ProductID = p.ProductID\n",
                "    JOIN Production.ProductSubcategory psc ON p.ProductSubcategoryID = psc.ProductSubcategoryID\n",
                "    JOIN Production.ProductCategory pc ON psc.ProductCategoryID = pc.ProductCategoryID\n",
                "    JOIN Sales.SalesTerritory st ON c.TerritoryID = st.TerritoryID\n",
                "WHERE \n",
                "    st.Name = 'Southwest'\n",
                "    AND pc.Name = 'Bikes'\n",
                "GROUP BY \n",
                "    p.Name\n",
                "ORDER BY \n",
                "    TotalSpentOnBike DESC;\n",
                ""
            ],
            "metadata": {
                "azdata_cell_guid": "3f65a2ff-bbe7-4390-8619-8834daf99eeb",
                "language": "sql"
            },
            "outputs": [
                {
                    "output_type": "display_data",
                    "data": {
                        "text/html": "(3 rows affected)"
                    },
                    "metadata": {}
                },
                {
                    "output_type": "display_data",
                    "data": {
                        "text/html": "Total execution time: 00:00:00.095"
                    },
                    "metadata": {}
                },
                {
                    "output_type": "execute_result",
                    "metadata": {},
                    "execution_count": 55,
                    "data": {
                        "application/vnd.dataresource+json": {
                            "schema": {
                                "fields": [
                                    {
                                        "name": "BikeModel"
                                    },
                                    {
                                        "name": "TotalSpentOnBike"
                                    }
                                ]
                            },
                            "data": [
                                {
                                    "BikeModel": "Mountain-200 Black, 38",
                                    "TotalSpentOnBike": "687147.866540"
                                },
                                {
                                    "BikeModel": "Mountain-200 Black, 42",
                                    "TotalSpentOnBike": "644542.811500"
                                },
                                {
                                    "BikeModel": "Mountain-200 Silver, 38",
                                    "TotalSpentOnBike": "574015.243200"
                                }
                            ]
                        },
                        "text/html": [
                            "<table>",
                            "<tr><th>BikeModel</th><th>TotalSpentOnBike</th></tr>",
                            "<tr><td>Mountain-200 Black, 38</td><td>687147.866540</td></tr>",
                            "<tr><td>Mountain-200 Black, 42</td><td>644542.811500</td></tr>",
                            "<tr><td>Mountain-200 Silver, 38</td><td>574015.243200</td></tr>",
                            "</table>"
                        ]
                    }
                }
            ],
            "execution_count": 55
        },
        {
            "cell_type": "markdown",
            "source": [
                "### **Top 3 bikes models sales in Canada**"
            ],
            "metadata": {
                "azdata_cell_guid": "35686bb1-2677-4937-aded-6ff407d37d4b"
            },
            "attachments": {}
        },
        {
            "cell_type": "code",
            "source": [
                "WITH HighSpenders AS (\n",
                "    SELECT \n",
                "        c.CustomerID,\n",
                "        SUM(s.TotalDue) AS TotalSpent\n",
                "    FROM \n",
                "        Sales.Customer c\n",
                "        JOIN Sales.SalesOrderHeader s ON c.CustomerID = s.CustomerID\n",
                "    GROUP BY \n",
                "        c.CustomerID\n",
                "    HAVING \n",
                "        SUM(s.TotalDue) > 5000\n",
                ")\n",
                "SELECT TOP(3)\n",
                "    p.Name AS BikeModel,\n",
                "    SUM(sd.LineTotal) AS TotalSpentOnBike\n",
                "FROM \n",
                "    HighSpenders hs\n",
                "    JOIN Sales.Customer c ON hs.CustomerID = c.CustomerID\n",
                "    JOIN Sales.SalesOrderHeader soh ON c.CustomerID = soh.CustomerID\n",
                "    JOIN Sales.SalesOrderDetail sd ON soh.SalesOrderID = sd.SalesOrderID\n",
                "    JOIN Production.Product p ON sd.ProductID = p.ProductID\n",
                "    JOIN Production.ProductSubcategory psc ON p.ProductSubcategoryID = psc.ProductSubcategoryID\n",
                "    JOIN Production.ProductCategory pc ON psc.ProductCategoryID = pc.ProductCategoryID\n",
                "    JOIN Sales.SalesTerritory st ON c.TerritoryID = st.TerritoryID\n",
                "WHERE \n",
                "    st.Name = 'Canada'\n",
                "    AND pc.Name = 'Bikes'\n",
                "GROUP BY \n",
                "    p.Name\n",
                "ORDER BY \n",
                "    TotalSpentOnBike DESC;\n",
                "\n",
                ""
            ],
            "metadata": {
                "azdata_cell_guid": "6cff9b66-1ddc-4bb5-986e-788a680f2843",
                "language": "sql"
            },
            "outputs": [
                {
                    "output_type": "display_data",
                    "data": {
                        "text/html": "(3 rows affected)"
                    },
                    "metadata": {}
                },
                {
                    "output_type": "display_data",
                    "data": {
                        "text/html": "Total execution time: 00:00:00.155"
                    },
                    "metadata": {}
                },
                {
                    "output_type": "execute_result",
                    "metadata": {},
                    "execution_count": 56,
                    "data": {
                        "application/vnd.dataresource+json": {
                            "schema": {
                                "fields": [
                                    {
                                        "name": "BikeModel"
                                    },
                                    {
                                        "name": "TotalSpentOnBike"
                                    }
                                ]
                            },
                            "data": [
                                {
                                    "BikeModel": "Mountain-200 Black, 38",
                                    "TotalSpentOnBike": "672416.261316"
                                },
                                {
                                    "BikeModel": "Mountain-200 Black, 42",
                                    "TotalSpentOnBike": "548109.176400"
                                },
                                {
                                    "BikeModel": "Mountain-200 Silver, 38",
                                    "TotalSpentOnBike": "468025.903024"
                                }
                            ]
                        },
                        "text/html": [
                            "<table>",
                            "<tr><th>BikeModel</th><th>TotalSpentOnBike</th></tr>",
                            "<tr><td>Mountain-200 Black, 38</td><td>672416.261316</td></tr>",
                            "<tr><td>Mountain-200 Black, 42</td><td>548109.176400</td></tr>",
                            "<tr><td>Mountain-200 Silver, 38</td><td>468025.903024</td></tr>",
                            "</table>"
                        ]
                    }
                }
            ],
            "execution_count": 56
        },
        {
            "cell_type": "markdown",
            "source": [
                "### **Top 3 bike model sales in Northwest**"
            ],
            "metadata": {
                "azdata_cell_guid": "1d4d5581-e153-4ff0-bb74-36edc46a6465"
            },
            "attachments": {}
        },
        {
            "cell_type": "code",
            "source": [
                "WITH HighSpenders AS (\n",
                "    SELECT \n",
                "        c.CustomerID,\n",
                "        SUM(s.TotalDue) AS TotalSpent\n",
                "    FROM \n",
                "        Sales.Customer c\n",
                "        JOIN Sales.SalesOrderHeader s ON c.CustomerID = s.CustomerID\n",
                "    GROUP BY \n",
                "        c.CustomerID\n",
                "    HAVING \n",
                "        SUM(s.TotalDue) > 5000\n",
                ")\n",
                "SELECT TOP(3)\n",
                "    p.Name AS BikeModel,\n",
                "    SUM(sd.LineTotal) AS TotalSpentOnBike\n",
                "FROM \n",
                "    HighSpenders hs\n",
                "    JOIN Sales.Customer c ON hs.CustomerID = c.CustomerID\n",
                "    JOIN Sales.SalesOrderHeader soh ON c.CustomerID = soh.CustomerID\n",
                "    JOIN Sales.SalesOrderDetail sd ON soh.SalesOrderID = sd.SalesOrderID\n",
                "    JOIN Production.Product p ON sd.ProductID = p.ProductID\n",
                "    JOIN Production.ProductSubcategory psc ON p.ProductSubcategoryID = psc.ProductSubcategoryID\n",
                "    JOIN Production.ProductCategory pc ON psc.ProductCategoryID = pc.ProductCategoryID\n",
                "    JOIN Sales.SalesTerritory st ON c.TerritoryID = st.TerritoryID\n",
                "WHERE \n",
                "    st.Name = 'Northwest'\n",
                "    AND pc.Name = 'Bikes'\n",
                "GROUP BY \n",
                "    p.Name\n",
                "ORDER BY \n",
                "    TotalSpentOnBike DESC;\n",
                ""
            ],
            "metadata": {
                "azdata_cell_guid": "c565bd1e-9b2f-46ec-9ade-5f3f7c8fcd6a",
                "language": "sql",
                "tags": [
                    "hide_input"
                ]
            },
            "outputs": [
                {
                    "output_type": "display_data",
                    "data": {
                        "text/html": "(3 rows affected)"
                    },
                    "metadata": {}
                },
                {
                    "output_type": "display_data",
                    "data": {
                        "text/html": "Total execution time: 00:00:00.139"
                    },
                    "metadata": {}
                },
                {
                    "output_type": "execute_result",
                    "metadata": {},
                    "execution_count": 58,
                    "data": {
                        "application/vnd.dataresource+json": {
                            "schema": {
                                "fields": [
                                    {
                                        "name": "BikeModel"
                                    },
                                    {
                                        "name": "TotalSpentOnBike"
                                    }
                                ]
                            },
                            "data": [
                                {
                                    "BikeModel": "Mountain-200 Black, 38",
                                    "TotalSpentOnBike": "638327.890017"
                                },
                                {
                                    "BikeModel": "Mountain-200 Black, 42",
                                    "TotalSpentOnBike": "557122.325804"
                                },
                                {
                                    "BikeModel": "Mountain-200 Silver, 42",
                                    "TotalSpentOnBike": "509904.340404"
                                }
                            ]
                        },
                        "text/html": [
                            "<table>",
                            "<tr><th>BikeModel</th><th>TotalSpentOnBike</th></tr>",
                            "<tr><td>Mountain-200 Black, 38</td><td>638327.890017</td></tr>",
                            "<tr><td>Mountain-200 Black, 42</td><td>557122.325804</td></tr>",
                            "<tr><td>Mountain-200 Silver, 42</td><td>509904.340404</td></tr>",
                            "</table>"
                        ]
                    }
                }
            ],
            "execution_count": 58
        },
        {
            "cell_type": "markdown",
            "source": [
                "### **Medium Group (Total spend between 1000 and 5000 US dollars)**"
            ],
            "metadata": {
                "language": "sql",
                "azdata_cell_guid": "e1fd8de2-6512-463d-9617-a3fb8563fee0"
            },
            "attachments": {}
        },
        {
            "cell_type": "code",
            "source": [
                "SELECT TOP(10)\n",
                "    c.CustomerID,\n",
                "    COUNT(s.SalesOrderID) AS PurchaseFrequency,\n",
                "    SUM(s.TotalDue) AS TotalSpent,\n",
                "    'Medium Spender' AS SpendingSegment\n",
                "FROM \n",
                "    Sales.Customer c\n",
                "    JOIN Sales.SalesOrderHeader s ON c.CustomerID = s.CustomerID\n",
                "GROUP BY \n",
                "    c.CustomerID\n",
                "HAVING \n",
                "    SUM(s.TotalDue) BETWEEN 1000 AND 5000\n",
                "    ORDER BY PurchaseFrequency DESC, TotalSpent DESC;\n",
                ""
            ],
            "metadata": {
                "language": "sql",
                "azdata_cell_guid": "b0fb0c34-408f-414d-a8b5-36500a07dd80",
                "tags": []
            },
            "outputs": [
                {
                    "output_type": "display_data",
                    "data": {
                        "text/html": "(10 rows affected)"
                    },
                    "metadata": {}
                },
                {
                    "output_type": "display_data",
                    "data": {
                        "text/html": "Total execution time: 00:00:00.125"
                    },
                    "metadata": {}
                },
                {
                    "output_type": "execute_result",
                    "metadata": {},
                    "execution_count": 69,
                    "data": {
                        "application/vnd.dataresource+json": {
                            "schema": {
                                "fields": [
                                    {
                                        "name": "CustomerID"
                                    },
                                    {
                                        "name": "PurchaseFrequency"
                                    },
                                    {
                                        "name": "TotalSpent"
                                    },
                                    {
                                        "name": "SpendingSegment"
                                    }
                                ]
                            },
                            "data": [
                                {
                                    "CustomerID": "11176",
                                    "PurchaseFrequency": "28",
                                    "TotalSpent": "1458.6118",
                                    "SpendingSegment": "Medium Spender"
                                },
                                {
                                    "CustomerID": "11091",
                                    "PurchaseFrequency": "28",
                                    "TotalSpent": "1314.2103",
                                    "SpendingSegment": "Medium Spender"
                                },
                                {
                                    "CustomerID": "11185",
                                    "PurchaseFrequency": "27",
                                    "TotalSpent": "1786.0233",
                                    "SpendingSegment": "Medium Spender"
                                },
                                {
                                    "CustomerID": "11300",
                                    "PurchaseFrequency": "27",
                                    "TotalSpent": "1658.0753",
                                    "SpendingSegment": "Medium Spender"
                                },
                                {
                                    "CustomerID": "11200",
                                    "PurchaseFrequency": "27",
                                    "TotalSpent": "1617.0356",
                                    "SpendingSegment": "Medium Spender"
                                },
                                {
                                    "CustomerID": "11277",
                                    "PurchaseFrequency": "27",
                                    "TotalSpent": "1585.6648",
                                    "SpendingSegment": "Medium Spender"
                                },
                                {
                                    "CustomerID": "11331",
                                    "PurchaseFrequency": "27",
                                    "TotalSpent": "1468.8883",
                                    "SpendingSegment": "Medium Spender"
                                },
                                {
                                    "CustomerID": "11223",
                                    "PurchaseFrequency": "27",
                                    "TotalSpent": "1331.9455",
                                    "SpendingSegment": "Medium Spender"
                                },
                                {
                                    "CustomerID": "11287",
                                    "PurchaseFrequency": "27",
                                    "TotalSpent": "1289.6131",
                                    "SpendingSegment": "Medium Spender"
                                },
                                {
                                    "CustomerID": "11330",
                                    "PurchaseFrequency": "27",
                                    "TotalSpent": "1255.6675",
                                    "SpendingSegment": "Medium Spender"
                                }
                            ]
                        },
                        "text/html": [
                            "<table>",
                            "<tr><th>CustomerID</th><th>PurchaseFrequency</th><th>TotalSpent</th><th>SpendingSegment</th></tr>",
                            "<tr><td>11176</td><td>28</td><td>1458.6118</td><td>Medium Spender</td></tr>",
                            "<tr><td>11091</td><td>28</td><td>1314.2103</td><td>Medium Spender</td></tr>",
                            "<tr><td>11185</td><td>27</td><td>1786.0233</td><td>Medium Spender</td></tr>",
                            "<tr><td>11300</td><td>27</td><td>1658.0753</td><td>Medium Spender</td></tr>",
                            "<tr><td>11200</td><td>27</td><td>1617.0356</td><td>Medium Spender</td></tr>",
                            "<tr><td>11277</td><td>27</td><td>1585.6648</td><td>Medium Spender</td></tr>",
                            "<tr><td>11331</td><td>27</td><td>1468.8883</td><td>Medium Spender</td></tr>",
                            "<tr><td>11223</td><td>27</td><td>1331.9455</td><td>Medium Spender</td></tr>",
                            "<tr><td>11287</td><td>27</td><td>1289.6131</td><td>Medium Spender</td></tr>",
                            "<tr><td>11330</td><td>27</td><td>1255.6675</td><td>Medium Spender</td></tr>",
                            "</table>"
                        ]
                    }
                }
            ],
            "execution_count": 69
        },
        {
            "cell_type": "markdown",
            "source": [
                "### <mark>Insight</mark>: **28** is the **highest** value for the **Frequency of Purchases** and the **highest**** Total spend** is about **4999.5532 UD Dollars** "
            ],
            "metadata": {
                "azdata_cell_guid": "44be951a-c7db-4e99-9d0f-b7a31cdfb7cc"
            },
            "attachments": {}
        },
        {
            "cell_type": "markdown",
            "source": [
                "### <span style=\"color: rgb(0, 0, 0); font-family: Aptos, sans-serif; font-size: 16px;\">Moving to label the&nbsp;</span>  **Territory**, below is a t<span style=\"font-family: -apple-system, BlinkMacSystemFont, sans-serif; color: var(--vscode-foreground);\">able of the top 10</span> **medium spender territories** <span style=\"color: var(--vscode-foreground); font-family: -apple-system, BlinkMacSystemFont, sans-serif;\">and each territory spending order b</span><span style=\"color: var(--vscode-foreground); font-family: -apple-system, BlinkMacSystemFont, sans-serif;\">y spending in descending order</span>"
            ],
            "metadata": {
                "azdata_cell_guid": "2c0dc430-e25e-4017-ac51-a995fdff2ac5"
            },
            "attachments": {}
        },
        {
            "cell_type": "code",
            "source": [
                "WITH MediumSpenders AS (\n",
                "    SELECT \n",
                "        c.CustomerID,\n",
                "        SUM(s.TotalDue) AS TotalSpent\n",
                "    FROM \n",
                "        Sales.Customer c\n",
                "        JOIN Sales.SalesOrderHeader s ON c.CustomerID = s.CustomerID\n",
                "    GROUP BY \n",
                "        c.CustomerID\n",
                "    HAVING \n",
                "        SUM(s.TotalDue) BETWEEN 1000 AND 5000\n",
                ")\n",
                "SELECT TOP(10)\n",
                "    st.Name AS Territory,\n",
                "    SUM(ms.TotalSpent) AS TotalTerritorySpend\n",
                "FROM \n",
                "    MediumSpenders ms \n",
                "    JOIN Sales.Customer c ON ms.CustomerID = c.CustomerID\n",
                "    JOIN Sales.SalesTerritory st ON c.TerritoryID = st.TerritoryID\n",
                "GROUP BY \n",
                "    st.Name\n",
                "ORDER BY \n",
                "    TotalTerritorySpend DESC;"
            ],
            "metadata": {
                "language": "sql",
                "azdata_cell_guid": "2cc420db-9512-42df-a085-35bf86e7d213"
            },
            "outputs": [
                {
                    "output_type": "display_data",
                    "data": {
                        "text/html": "(10 rows affected)"
                    },
                    "metadata": {}
                },
                {
                    "output_type": "display_data",
                    "data": {
                        "text/html": "Total execution time: 00:00:00.110"
                    },
                    "metadata": {}
                },
                {
                    "output_type": "execute_result",
                    "metadata": {},
                    "execution_count": 72,
                    "data": {
                        "application/vnd.dataresource+json": {
                            "schema": {
                                "fields": [
                                    {
                                        "name": "Territory"
                                    },
                                    {
                                        "name": "TotalTerritorySpend"
                                    }
                                ]
                            },
                            "data": [
                                {
                                    "Territory": "Southwest",
                                    "TotalTerritorySpend": "3850098.7048"
                                },
                                {
                                    "Territory": "Australia",
                                    "TotalTerritorySpend": "3639747.5671"
                                },
                                {
                                    "Territory": "Northwest",
                                    "TotalTerritorySpend": "2494037.2362"
                                },
                                {
                                    "Territory": "Germany",
                                    "TotalTerritorySpend": "1616317.6104"
                                },
                                {
                                    "Territory": "United Kingdom",
                                    "TotalTerritorySpend": "1495668.8406"
                                },
                                {
                                    "Territory": "France",
                                    "TotalTerritorySpend": "1275741.3592"
                                },
                                {
                                    "Territory": "Canada",
                                    "TotalTerritorySpend": "1210467.4749"
                                },
                                {
                                    "Territory": "Southeast",
                                    "TotalTerritorySpend": "36578.8921"
                                },
                                {
                                    "Territory": "Central",
                                    "TotalTerritorySpend": "30132.882"
                                },
                                {
                                    "Territory": "Northeast",
                                    "TotalTerritorySpend": "18288.162"
                                }
                            ]
                        },
                        "text/html": [
                            "<table>",
                            "<tr><th>Territory</th><th>TotalTerritorySpend</th></tr>",
                            "<tr><td>Southwest</td><td>3850098.7048</td></tr>",
                            "<tr><td>Australia</td><td>3639747.5671</td></tr>",
                            "<tr><td>Northwest</td><td>2494037.2362</td></tr>",
                            "<tr><td>Germany</td><td>1616317.6104</td></tr>",
                            "<tr><td>United Kingdom</td><td>1495668.8406</td></tr>",
                            "<tr><td>France</td><td>1275741.3592</td></tr>",
                            "<tr><td>Canada</td><td>1210467.4749</td></tr>",
                            "<tr><td>Southeast</td><td>36578.8921</td></tr>",
                            "<tr><td>Central</td><td>30132.882</td></tr>",
                            "<tr><td>Northeast</td><td>18288.162</td></tr>",
                            "</table>"
                        ]
                    }
                }
            ],
            "execution_count": 72
        },
        {
            "cell_type": "markdown",
            "source": [
                "### <mark>Insight</mark>: **Southwest, Australia, and Northwest** are the top 3 Territories based on their Total Territories Spending in US Dollars."
            ],
            "metadata": {
                "azdata_cell_guid": "954f0c54-2e49-43a1-b93c-70f4e23b9a2d"
            },
            "attachments": {}
        },
        {
            "cell_type": "markdown",
            "source": [
                "### **Prefered Product Categories in the Southwest, Canada, and Northwest territories and their corresponding total spend in each category**"
            ],
            "metadata": {
                "azdata_cell_guid": "5020e966-2384-4c90-9ea6-92b6f067fe37"
            },
            "attachments": {}
        },
        {
            "cell_type": "code",
            "source": [
                "  WITH MediumSpenders AS (\n",
                "    SELECT \n",
                "        c.CustomerID,\n",
                "        SUM(s.TotalDue) AS TotalSpent\n",
                "    FROM \n",
                "        Sales.Customer c\n",
                "        JOIN Sales.SalesOrderHeader s ON c.CustomerID = s.CustomerID\n",
                "    GROUP BY \n",
                "        c.CustomerID\n",
                "    HAVING \n",
                "        SUM(s.TotalDue) BETWEEN 1000 AND 5000\n",
                "),\n",
                "TopTerritories AS (\n",
                "    SELECT TOP(3)\n",
                "        st.Name AS Territory,\n",
                "        SUM(ms.TotalSpent) AS TotalTerritorySpend\n",
                "    FROM \n",
                "        MediumSpenders ms\n",
                "        JOIN Sales.Customer c ON ms.CustomerID = c.CustomerID\n",
                "        JOIN Sales.SalesTerritory st ON c.TerritoryID = st.TerritoryID\n",
                "    GROUP BY \n",
                "        st.Name\n",
                "    ORDER BY \n",
                "        TotalTerritorySpend DESC\n",
                ")\n",
                "SELECT \n",
                "    tt.Territory,\n",
                "    pc.Name AS ProductCategory,\n",
                "    SUM(sd.LineTotal) AS TotalSpentInCategory\n",
                "FROM \n",
                "    MediumSpenders ms\n",
                "    JOIN Sales.Customer c ON ms.CustomerID = c.CustomerID\n",
                "    JOIN Sales.SalesOrderHeader soh ON c.CustomerID = soh.CustomerID\n",
                "    JOIN Sales.SalesOrderDetail sd ON soh.SalesOrderID = sd.SalesOrderID\n",
                "    JOIN Production.Product p ON sd.ProductID = p.ProductID\n",
                "    JOIN Production.ProductSubcategory psc ON p.ProductSubcategoryID = psc.ProductSubcategoryID\n",
                "    JOIN Production.ProductCategory pc ON psc.ProductCategoryID = pc.ProductCategoryID\n",
                "    JOIN Sales.SalesTerritory st ON c.TerritoryID = st.TerritoryID\n",
                "    JOIN TopTerritories tt ON st.Name = tt.Territory\n",
                "GROUP BY \n",
                "    tt.Territory, pc.Name\n",
                "ORDER BY \n",
                "    tt.Territory, TotalSpentInCategory DESC;\n",
                ""
            ],
            "metadata": {
                "azdata_cell_guid": "9cfa76ea-a8fc-4969-a0ed-3f21fa09c1c8",
                "language": "sql"
            },
            "outputs": [
                {
                    "output_type": "display_data",
                    "data": {
                        "text/html": "(12 rows affected)"
                    },
                    "metadata": {}
                },
                {
                    "output_type": "display_data",
                    "data": {
                        "text/html": "Total execution time: 00:00:00.310"
                    },
                    "metadata": {}
                },
                {
                    "output_type": "execute_result",
                    "metadata": {},
                    "execution_count": 73,
                    "data": {
                        "application/vnd.dataresource+json": {
                            "schema": {
                                "fields": [
                                    {
                                        "name": "Territory"
                                    },
                                    {
                                        "name": "ProductCategory"
                                    },
                                    {
                                        "name": "TotalSpentInCategory"
                                    }
                                ]
                            },
                            "data": [
                                {
                                    "Territory": "Australia",
                                    "ProductCategory": "Bikes",
                                    "TotalSpentInCategory": "3236981.357375"
                                },
                                {
                                    "Territory": "Australia",
                                    "ProductCategory": "Accessories",
                                    "TotalSpentInCategory": "25233.882000"
                                },
                                {
                                    "Territory": "Australia",
                                    "ProductCategory": "Clothing",
                                    "TotalSpentInCategory": "19473.846000"
                                },
                                {
                                    "Territory": "Australia",
                                    "ProductCategory": "Components",
                                    "TotalSpentInCategory": "11484.714000"
                                },
                                {
                                    "Territory": "Northwest",
                                    "ProductCategory": "Bikes",
                                    "TotalSpentInCategory": "2211341.151400"
                                },
                                {
                                    "Territory": "Northwest",
                                    "ProductCategory": "Accessories",
                                    "TotalSpentInCategory": "20035.777825"
                                },
                                {
                                    "Territory": "Northwest",
                                    "ProductCategory": "Clothing",
                                    "TotalSpentInCategory": "17668.849692"
                                },
                                {
                                    "Territory": "Northwest",
                                    "ProductCategory": "Components",
                                    "TotalSpentInCategory": "7684.766000"
                                },
                                {
                                    "Territory": "Southwest",
                                    "ProductCategory": "Bikes",
                                    "TotalSpentInCategory": "3410662.806700"
                                },
                                {
                                    "Territory": "Southwest",
                                    "ProductCategory": "Accessories",
                                    "TotalSpentInCategory": "36185.694000"
                                },
                                {
                                    "Territory": "Southwest",
                                    "ProductCategory": "Clothing",
                                    "TotalSpentInCategory": "21583.416600"
                                },
                                {
                                    "Territory": "Southwest",
                                    "ProductCategory": "Components",
                                    "TotalSpentInCategory": "15167.175800"
                                }
                            ]
                        },
                        "text/html": [
                            "<table>",
                            "<tr><th>Territory</th><th>ProductCategory</th><th>TotalSpentInCategory</th></tr>",
                            "<tr><td>Australia</td><td>Bikes</td><td>3236981.357375</td></tr>",
                            "<tr><td>Australia</td><td>Accessories</td><td>25233.882000</td></tr>",
                            "<tr><td>Australia</td><td>Clothing</td><td>19473.846000</td></tr>",
                            "<tr><td>Australia</td><td>Components</td><td>11484.714000</td></tr>",
                            "<tr><td>Northwest</td><td>Bikes</td><td>2211341.151400</td></tr>",
                            "<tr><td>Northwest</td><td>Accessories</td><td>20035.777825</td></tr>",
                            "<tr><td>Northwest</td><td>Clothing</td><td>17668.849692</td></tr>",
                            "<tr><td>Northwest</td><td>Components</td><td>7684.766000</td></tr>",
                            "<tr><td>Southwest</td><td>Bikes</td><td>3410662.806700</td></tr>",
                            "<tr><td>Southwest</td><td>Accessories</td><td>36185.694000</td></tr>",
                            "<tr><td>Southwest</td><td>Clothing</td><td>21583.416600</td></tr>",
                            "<tr><td>Southwest</td><td>Components</td><td>15167.175800</td></tr>",
                            "</table>"
                        ]
                    }
                }
            ],
            "execution_count": 73
        },
        {
            "cell_type": "markdown",
            "source": [
                "### For the **Medium Spender**, we want to look into the top 2 product categories, **<mark>Accessories</mark>** in the top 3 territories"
            ],
            "metadata": {
                "azdata_cell_guid": "33d7c19e-e917-4790-af38-6f4c1bf8974e"
            },
            "attachments": {}
        },
        {
            "cell_type": "code",
            "source": [
                "\n",
                "WITH MediumSpenders AS (\n",
                "    SELECT \n",
                "        c.CustomerID,\n",
                "        SUM(s.TotalDue) AS TotalSpent\n",
                "    FROM \n",
                "        Sales.Customer c\n",
                "        JOIN Sales.SalesOrderHeader s ON c.CustomerID = s.CustomerID\n",
                "    GROUP BY \n",
                "        c.CustomerID\n",
                "    HAVING \n",
                "        SUM(s.TotalDue) BETWEEN 1000 AND 5000\n",
                ")\n",
                "SELECT TOP(10)\n",
                "    p.Name AS Accessories,\n",
                "    SUM(sd.LineTotal) AS TotalSpentOnAccessories\n",
                "FROM \n",
                "    MediumSpenders ms\n",
                "    JOIN Sales.Customer c ON ms.CustomerID = c.CustomerID\n",
                "    JOIN Sales.SalesOrderHeader soh ON c.CustomerID = soh.CustomerID\n",
                "    JOIN Sales.SalesOrderDetail sd ON soh.SalesOrderID = sd.SalesOrderID\n",
                "    JOIN Production.Product p ON sd.ProductID = p.ProductID\n",
                "    JOIN Production.ProductSubcategory psc ON p.ProductSubcategoryID = psc.ProductSubcategoryID\n",
                "    JOIN Production.ProductCategory pc ON psc.ProductCategoryID = pc.ProductCategoryID\n",
                "    JOIN Sales.SalesTerritory st ON c.TerritoryID = st.TerritoryID\n",
                "WHERE \n",
                "    st.Name = 'Australia' \n",
                "    AND pc.Name = 'Accessories'\n",
                "GROUP BY \n",
                "    p.Name\n",
                "ORDER BY \n",
                "    TotalSpentOnAccessories DESC;\n",
                ""
            ],
            "metadata": {
                "azdata_cell_guid": "ec2fbc18-13f8-4925-b28a-a19428fae2d8",
                "language": "sql"
            },
            "outputs": [
                {
                    "output_type": "display_data",
                    "data": {
                        "text/html": "(10 rows affected)"
                    },
                    "metadata": {}
                },
                {
                    "output_type": "display_data",
                    "data": {
                        "text/html": "Total execution time: 00:00:00.069"
                    },
                    "metadata": {}
                },
                {
                    "output_type": "execute_result",
                    "metadata": {},
                    "execution_count": 80,
                    "data": {
                        "application/vnd.dataresource+json": {
                            "schema": {
                                "fields": [
                                    {
                                        "name": "Accessories"
                                    },
                                    {
                                        "name": "TotalSpentOnAccessories"
                                    }
                                ]
                            },
                            "data": [
                                {
                                    "Accessories": "Sport-100 Helmet, Blue",
                                    "TotalSpentOnAccessories": "4093.830000"
                                },
                                {
                                    "Accessories": "Sport-100 Helmet, Black",
                                    "TotalSpentOnAccessories": "3841.902000"
                                },
                                {
                                    "Accessories": "Sport-100 Helmet, Red",
                                    "TotalSpentOnAccessories": "3429.020000"
                                },
                                {
                                    "Accessories": "ML Road Tire",
                                    "TotalSpentOnAccessories": "2049.180000"
                                },
                                {
                                    "Accessories": "Road Bottle Cage",
                                    "TotalSpentOnAccessories": "1690.120000"
                                },
                                {
                                    "Accessories": "Hydration Pack - 70 oz.",
                                    "TotalSpentOnAccessories": "1649.700000"
                                },
                                {
                                    "Accessories": "All-Purpose Bike Stand",
                                    "TotalSpentOnAccessories": "1272.000000"
                                },
                                {
                                    "Accessories": "Hitch Rack - 4-Bike",
                                    "TotalSpentOnAccessories": "1200.000000"
                                },
                                {
                                    "Accessories": "LL Road Tire",
                                    "TotalSpentOnAccessories": "1074.500000"
                                },
                                {
                                    "Accessories": "Water Bottle - 30 oz.",
                                    "TotalSpentOnAccessories": "1017.960000"
                                }
                            ]
                        },
                        "text/html": [
                            "<table>",
                            "<tr><th>Accessories</th><th>TotalSpentOnAccessories</th></tr>",
                            "<tr><td>Sport-100 Helmet, Blue</td><td>4093.830000</td></tr>",
                            "<tr><td>Sport-100 Helmet, Black</td><td>3841.902000</td></tr>",
                            "<tr><td>Sport-100 Helmet, Red</td><td>3429.020000</td></tr>",
                            "<tr><td>ML Road Tire</td><td>2049.180000</td></tr>",
                            "<tr><td>Road Bottle Cage</td><td>1690.120000</td></tr>",
                            "<tr><td>Hydration Pack - 70 oz.</td><td>1649.700000</td></tr>",
                            "<tr><td>All-Purpose Bike Stand</td><td>1272.000000</td></tr>",
                            "<tr><td>Hitch Rack - 4-Bike</td><td>1200.000000</td></tr>",
                            "<tr><td>LL Road Tire</td><td>1074.500000</td></tr>",
                            "<tr><td>Water Bottle - 30 oz.</td><td>1017.960000</td></tr>",
                            "</table>"
                        ]
                    }
                }
            ],
            "execution_count": 80
        },
        {
            "cell_type": "markdown",
            "source": [
                "### **<mark>Insight</mark>**: Sport - 100 Helmet models, road tires, and bottle cages are among the top 3 accessories sales in Australia."
            ],
            "metadata": {
                "azdata_cell_guid": "898610fb-d109-438e-86b8-a72322aa20e9"
            },
            "attachments": {}
        },
        {
            "cell_type": "code",
            "source": [
                "\n",
                "WITH MediumSpenders AS (\n",
                "    SELECT \n",
                "        c.CustomerID,\n",
                "        SUM(s.TotalDue) AS TotalSpent\n",
                "    FROM \n",
                "        Sales.Customer c\n",
                "        JOIN Sales.SalesOrderHeader s ON c.CustomerID = s.CustomerID\n",
                "    GROUP BY \n",
                "        c.CustomerID\n",
                "    HAVING \n",
                "        SUM(s.TotalDue) BETWEEN 1000 AND 5000\n",
                ")\n",
                "SELECT TOP(10)\n",
                "    p.Name AS Accessories,\n",
                "    SUM(sd.LineTotal) AS TotalSpentOnAccessories\n",
                "FROM \n",
                "    MediumSpenders ms\n",
                "    JOIN Sales.Customer c ON ms.CustomerID = c.CustomerID\n",
                "    JOIN Sales.SalesOrderHeader soh ON c.CustomerID = soh.CustomerID\n",
                "    JOIN Sales.SalesOrderDetail sd ON soh.SalesOrderID = sd.SalesOrderID\n",
                "    JOIN Production.Product p ON sd.ProductID = p.ProductID\n",
                "    JOIN Production.ProductSubcategory psc ON p.ProductSubcategoryID = psc.ProductSubcategoryID\n",
                "    JOIN Production.ProductCategory pc ON psc.ProductCategoryID = pc.ProductCategoryID\n",
                "    JOIN Sales.SalesTerritory st ON c.TerritoryID = st.TerritoryID\n",
                "WHERE \n",
                "    st.Name = 'Northwest' -- Changing the name here to get different territory result\n",
                "    AND pc.Name = 'Accessories'\n",
                "GROUP BY \n",
                "    p.Name\n",
                "ORDER BY \n",
                "    TotalSpentOnAccessories DESC;\n",
                ""
            ],
            "metadata": {
                "azdata_cell_guid": "2ddaee3d-16a9-4cb1-948d-ec55ebbf6cd0",
                "language": "sql"
            },
            "outputs": [
                {
                    "output_type": "display_data",
                    "data": {
                        "text/html": "(10 rows affected)"
                    },
                    "metadata": {}
                },
                {
                    "output_type": "display_data",
                    "data": {
                        "text/html": "Total execution time: 00:00:00.100"
                    },
                    "metadata": {}
                },
                {
                    "output_type": "execute_result",
                    "metadata": {},
                    "execution_count": 81,
                    "data": {
                        "application/vnd.dataresource+json": {
                            "schema": {
                                "fields": [
                                    {
                                        "name": "Accessories"
                                    },
                                    {
                                        "name": "TotalSpentOnAccessories"
                                    }
                                ]
                            },
                            "data": [
                                {
                                    "Accessories": "Sport-100 Helmet, Blue",
                                    "TotalSpentOnAccessories": "3369.920475"
                                },
                                {
                                    "Accessories": "Sport-100 Helmet, Red",
                                    "TotalSpentOnAccessories": "2694.230000"
                                },
                                {
                                    "Accessories": "Sport-100 Helmet, Black",
                                    "TotalSpentOnAccessories": "2651.017350"
                                },
                                {
                                    "Accessories": "Fender Set - Mountain",
                                    "TotalSpentOnAccessories": "2263.940000"
                                },
                                {
                                    "Accessories": "HL Mountain Tire",
                                    "TotalSpentOnAccessories": "1435.000000"
                                },
                                {
                                    "Accessories": "ML Road Tire",
                                    "TotalSpentOnAccessories": "1124.550000"
                                },
                                {
                                    "Accessories": "Hydration Pack - 70 oz.",
                                    "TotalSpentOnAccessories": "989.820000"
                                },
                                {
                                    "Accessories": "Road Bottle Cage",
                                    "TotalSpentOnAccessories": "755.160000"
                                },
                                {
                                    "Accessories": "Mountain Bottle Cage",
                                    "TotalSpentOnAccessories": "689.310000"
                                },
                                {
                                    "Accessories": "Water Bottle - 30 oz.",
                                    "TotalSpentOnAccessories": "673.650000"
                                }
                            ]
                        },
                        "text/html": [
                            "<table>",
                            "<tr><th>Accessories</th><th>TotalSpentOnAccessories</th></tr>",
                            "<tr><td>Sport-100 Helmet, Blue</td><td>3369.920475</td></tr>",
                            "<tr><td>Sport-100 Helmet, Red</td><td>2694.230000</td></tr>",
                            "<tr><td>Sport-100 Helmet, Black</td><td>2651.017350</td></tr>",
                            "<tr><td>Fender Set - Mountain</td><td>2263.940000</td></tr>",
                            "<tr><td>HL Mountain Tire</td><td>1435.000000</td></tr>",
                            "<tr><td>ML Road Tire</td><td>1124.550000</td></tr>",
                            "<tr><td>Hydration Pack - 70 oz.</td><td>989.820000</td></tr>",
                            "<tr><td>Road Bottle Cage</td><td>755.160000</td></tr>",
                            "<tr><td>Mountain Bottle Cage</td><td>689.310000</td></tr>",
                            "<tr><td>Water Bottle - 30 oz.</td><td>673.650000</td></tr>",
                            "</table>"
                        ]
                    }
                }
            ],
            "execution_count": 81
        },
        {
            "cell_type": "markdown",
            "source": [
                "### **<mark>Insight</mark>**: Sport - 100 Helmet models, Fender Set Mountain, and Mountain Tire are among Northwest's top 4 accessories sales."
            ],
            "metadata": {
                "azdata_cell_guid": "9a8c56c4-315f-4ac2-9b06-23dbb266395a"
            },
            "attachments": {}
        },
        {
            "cell_type": "code",
            "source": [
                "\n",
                "WITH MediumSpenders AS (\n",
                "    SELECT \n",
                "        c.CustomerID,\n",
                "        SUM(s.TotalDue) AS TotalSpent\n",
                "    FROM \n",
                "        Sales.Customer c\n",
                "        JOIN Sales.SalesOrderHeader s ON c.CustomerID = s.CustomerID\n",
                "    GROUP BY \n",
                "        c.CustomerID\n",
                "    HAVING \n",
                "        SUM(s.TotalDue) BETWEEN 1000 AND 5000\n",
                ")\n",
                "SELECT TOP(10)\n",
                "    p.Name AS Accessories,\n",
                "    SUM(sd.LineTotal) AS TotalSpentOnAccessories\n",
                "FROM \n",
                "    MediumSpenders ms\n",
                "    JOIN Sales.Customer c ON ms.CustomerID = c.CustomerID\n",
                "    JOIN Sales.SalesOrderHeader soh ON c.CustomerID = soh.CustomerID\n",
                "    JOIN Sales.SalesOrderDetail sd ON soh.SalesOrderID = sd.SalesOrderID\n",
                "    JOIN Production.Product p ON sd.ProductID = p.ProductID\n",
                "    JOIN Production.ProductSubcategory psc ON p.ProductSubcategoryID = psc.ProductSubcategoryID\n",
                "    JOIN Production.ProductCategory pc ON psc.ProductCategoryID = pc.ProductCategoryID\n",
                "    JOIN Sales.SalesTerritory st ON c.TerritoryID = st.TerritoryID\n",
                "WHERE \n",
                "    st.Name = 'Southwest' -- Changing the name here to get different territory result\n",
                "    AND pc.Name = 'Accessories'\n",
                "GROUP BY \n",
                "    p.Name\n",
                "ORDER BY \n",
                "    TotalSpentOnAccessories DESC;\n",
                ""
            ],
            "metadata": {
                "azdata_cell_guid": "4c510697-3f14-4f98-a7a8-47a919f3f5ff",
                "language": "sql"
            },
            "outputs": [
                {
                    "output_type": "display_data",
                    "data": {
                        "text/html": "(10 rows affected)"
                    },
                    "metadata": {}
                },
                {
                    "output_type": "display_data",
                    "data": {
                        "text/html": "Total execution time: 00:00:00.168"
                    },
                    "metadata": {}
                },
                {
                    "output_type": "execute_result",
                    "metadata": {},
                    "execution_count": 83,
                    "data": {
                        "application/vnd.dataresource+json": {
                            "schema": {
                                "fields": [
                                    {
                                        "name": "Accessories"
                                    },
                                    {
                                        "name": "TotalSpentOnAccessories"
                                    }
                                ]
                            },
                            "data": [
                                {
                                    "Accessories": "Sport-100 Helmet, Red",
                                    "TotalSpentOnAccessories": "5108.540000"
                                },
                                {
                                    "Accessories": "Sport-100 Helmet, Black",
                                    "TotalSpentOnAccessories": "4618.680000"
                                },
                                {
                                    "Accessories": "Sport-100 Helmet, Blue",
                                    "TotalSpentOnAccessories": "4478.720000"
                                },
                                {
                                    "Accessories": "Fender Set - Mountain",
                                    "TotalSpentOnAccessories": "3560.760000"
                                },
                                {
                                    "Accessories": "HL Mountain Tire",
                                    "TotalSpentOnAccessories": "2835.000000"
                                },
                                {
                                    "Accessories": "Hydration Pack - 70 oz.",
                                    "TotalSpentOnAccessories": "2529.540000"
                                },
                                {
                                    "Accessories": "Hitch Rack - 4-Bike",
                                    "TotalSpentOnAccessories": "2400.000000"
                                },
                                {
                                    "Accessories": "ML Road Tire",
                                    "TotalSpentOnAccessories": "1749.300000"
                                },
                                {
                                    "Accessories": "Touring Tire",
                                    "TotalSpentOnAccessories": "1478.490000"
                                },
                                {
                                    "Accessories": "All-Purpose Bike Stand",
                                    "TotalSpentOnAccessories": "1431.000000"
                                }
                            ]
                        },
                        "text/html": [
                            "<table>",
                            "<tr><th>Accessories</th><th>TotalSpentOnAccessories</th></tr>",
                            "<tr><td>Sport-100 Helmet, Red</td><td>5108.540000</td></tr>",
                            "<tr><td>Sport-100 Helmet, Black</td><td>4618.680000</td></tr>",
                            "<tr><td>Sport-100 Helmet, Blue</td><td>4478.720000</td></tr>",
                            "<tr><td>Fender Set - Mountain</td><td>3560.760000</td></tr>",
                            "<tr><td>HL Mountain Tire</td><td>2835.000000</td></tr>",
                            "<tr><td>Hydration Pack - 70 oz.</td><td>2529.540000</td></tr>",
                            "<tr><td>Hitch Rack - 4-Bike</td><td>2400.000000</td></tr>",
                            "<tr><td>ML Road Tire</td><td>1749.300000</td></tr>",
                            "<tr><td>Touring Tire</td><td>1478.490000</td></tr>",
                            "<tr><td>All-Purpose Bike Stand</td><td>1431.000000</td></tr>",
                            "</table>"
                        ]
                    }
                }
            ],
            "execution_count": 83
        },
        {
            "cell_type": "markdown",
            "source": [
                "### **<mark>Insight</mark>**: Sport - 100 Helmet models, Fender Set Mountain, Mountain Tire, and Hydration Pack are among Southwest's top 6 accessories sales."
            ],
            "metadata": {
                "azdata_cell_guid": "9ca72034-3364-42c8-a9a9-5edc950adf3d"
            },
            "attachments": {}
        },
        {
            "cell_type": "markdown",
            "source": [
                "### **Low Group (Total spend less than 1000 US dollar)**"
            ],
            "metadata": {
                "azdata_cell_guid": "b0d72154-4407-4195-8838-350a0d3461be"
            },
            "attachments": {}
        },
        {
            "cell_type": "code",
            "source": [
                "SELECT TOP(1)\n",
                "    c.CustomerID,\n",
                "    COUNT(s.SalesOrderID) AS PurchaseFrequency,\n",
                "    SUM(s.TotalDue) AS TotalSpent,\n",
                "    'Low Spender' AS SpendingSegment\n",
                "FROM \n",
                "    Sales.Customer c\n",
                "    JOIN Sales.SalesOrderHeader s ON c.CustomerID = s.CustomerID\n",
                "GROUP BY \n",
                "    c.CustomerID\n",
                "HAVING \n",
                "    SUM(s.TotalDue) < 1000\n",
                "ORDER BY \n",
                " TotalSpent DESC;\n",
                "\n",
                " SELECT TOP(1)\n",
                "    c.CustomerID,\n",
                "    COUNT(s.SalesOrderID) AS PurchaseFrequency,\n",
                "    SUM(s.TotalDue) AS TotalSpent,\n",
                "    'Low Spender' AS SpendingSegment\n",
                "FROM \n",
                "    Sales.Customer c\n",
                "    JOIN Sales.SalesOrderHeader s ON c.CustomerID = s.CustomerID\n",
                "GROUP BY \n",
                "    c.CustomerID\n",
                "HAVING \n",
                "    SUM(s.TotalDue) < 1000\n",
                "ORDER BY \n",
                " PurchaseFrequency DESC;"
            ],
            "metadata": {
                "azdata_cell_guid": "0b1fadfe-9578-4031-bb9d-f7b2eba58d96",
                "language": "sql"
            },
            "outputs": [
                {
                    "output_type": "display_data",
                    "data": {
                        "text/html": "(1 row affected)"
                    },
                    "metadata": {}
                },
                {
                    "output_type": "display_data",
                    "data": {
                        "text/html": "(1 row affected)"
                    },
                    "metadata": {}
                },
                {
                    "output_type": "display_data",
                    "data": {
                        "text/html": "Total execution time: 00:00:00.111"
                    },
                    "metadata": {}
                },
                {
                    "output_type": "execute_result",
                    "metadata": {},
                    "execution_count": 87,
                    "data": {
                        "application/vnd.dataresource+json": {
                            "schema": {
                                "fields": [
                                    {
                                        "name": "CustomerID"
                                    },
                                    {
                                        "name": "PurchaseFrequency"
                                    },
                                    {
                                        "name": "TotalSpent"
                                    },
                                    {
                                        "name": "SpendingSegment"
                                    }
                                ]
                            },
                            "data": [
                                {
                                    "CustomerID": "18943",
                                    "PurchaseFrequency": "1",
                                    "TotalSpent": "997.7929",
                                    "SpendingSegment": "Low Spender"
                                }
                            ]
                        },
                        "text/html": [
                            "<table>",
                            "<tr><th>CustomerID</th><th>PurchaseFrequency</th><th>TotalSpent</th><th>SpendingSegment</th></tr>",
                            "<tr><td>18943</td><td>1</td><td>997.7929</td><td>Low Spender</td></tr>",
                            "</table>"
                        ]
                    }
                },
                {
                    "output_type": "execute_result",
                    "metadata": {},
                    "execution_count": 87,
                    "data": {
                        "application/vnd.dataresource+json": {
                            "schema": {
                                "fields": [
                                    {
                                        "name": "CustomerID"
                                    },
                                    {
                                        "name": "PurchaseFrequency"
                                    },
                                    {
                                        "name": "TotalSpent"
                                    },
                                    {
                                        "name": "SpendingSegment"
                                    }
                                ]
                            },
                            "data": [
                                {
                                    "CustomerID": "11019",
                                    "PurchaseFrequency": "17",
                                    "TotalSpent": "975.384",
                                    "SpendingSegment": "Low Spender"
                                }
                            ]
                        },
                        "text/html": [
                            "<table>",
                            "<tr><th>CustomerID</th><th>PurchaseFrequency</th><th>TotalSpent</th><th>SpendingSegment</th></tr>",
                            "<tr><td>11019</td><td>17</td><td>975.384</td><td>Low Spender</td></tr>",
                            "</table>"
                        ]
                    }
                }
            ],
            "execution_count": 87
        },
        {
            "cell_type": "markdown",
            "source": [
                "### <mark>Insight</mark>: **17** is the **highest** value for the Frequency of Purchases and the **highest** Total spend is about **997.7929 US Dollars**"
            ],
            "metadata": {
                "azdata_cell_guid": "f7ccad3c-2a1b-4c64-85f9-9486e4b24145"
            },
            "attachments": {}
        },
        {
            "cell_type": "markdown",
            "source": [
                "### <span style=\"color: rgb(0, 0, 0); font-family: Aptos, sans-serif; font-size: 16px;\">Moving to label the&nbsp;</span> **Territory**, below is a t<span style=\"font-family: -apple-system, BlinkMacSystemFont, sans-serif; color: var(--vscode-foreground);\">able of the top 10</span> **low spender territories** <span style=\"color: var(--vscode-foreground); font-family: -apple-system, BlinkMacSystemFont, sans-serif;\">and each territory spending order b</span><span style=\"color: var(--vscode-foreground); font-family: -apple-system, BlinkMacSystemFont, sans-serif;\">y spending in descending order</span>"
            ],
            "metadata": {
                "azdata_cell_guid": "86f69c34-1b22-4545-87b9-8985ffd28f6e"
            },
            "attachments": {}
        },
        {
            "cell_type": "code",
            "source": [
                "WITH LowSpenders AS (\n",
                "    SELECT \n",
                "        c.CustomerID,\n",
                "        SUM(s.TotalDue) AS TotalSpent\n",
                "    FROM \n",
                "        Sales.Customer c\n",
                "        JOIN Sales.SalesOrderHeader s ON c.CustomerID = s.CustomerID\n",
                "    GROUP BY \n",
                "        c.CustomerID\n",
                "    HAVING \n",
                "        SUM(s.TotalDue) < 1000\n",
                ")\n",
                "SELECT TOP(10)\n",
                "    st.Name AS Territory,\n",
                "    SUM(ls.TotalSpent) AS TotalTerritorySpend\n",
                "FROM \n",
                "    LowSpenders ls\n",
                "    JOIN Sales.Customer c ON ls.CustomerID = c.CustomerID\n",
                "    JOIN Sales.SalesTerritory st ON c.TerritoryID = st.TerritoryID\n",
                "GROUP BY \n",
                "    st.Name\n",
                "ORDER BY \n",
                "    TotalTerritorySpend DESC;"
            ],
            "metadata": {
                "azdata_cell_guid": "0888384c-ca20-4a27-83a1-e55b28bd25fd",
                "language": "sql"
            },
            "outputs": [
                {
                    "output_type": "display_data",
                    "data": {
                        "text/html": "(10 rows affected)"
                    },
                    "metadata": {}
                },
                {
                    "output_type": "display_data",
                    "data": {
                        "text/html": "Total execution time: 00:00:00.092"
                    },
                    "metadata": {}
                },
                {
                    "output_type": "execute_result",
                    "metadata": {},
                    "execution_count": 89,
                    "data": {
                        "application/vnd.dataresource+json": {
                            "schema": {
                                "fields": [
                                    {
                                        "name": "Territory"
                                    },
                                    {
                                        "name": "TotalTerritorySpend"
                                    }
                                ]
                            },
                            "data": [
                                {
                                    "Territory": "Southwest",
                                    "TotalTerritorySpend": "424149.6022"
                                },
                                {
                                    "Territory": "Northwest",
                                    "TotalTerritorySpend": "276294.7742"
                                },
                                {
                                    "Territory": "Australia",
                                    "TotalTerritorySpend": "230087.5632"
                                },
                                {
                                    "Territory": "Canada",
                                    "TotalTerritorySpend": "211533.7565"
                                },
                                {
                                    "Territory": "Germany",
                                    "TotalTerritorySpend": "196730.9568"
                                },
                                {
                                    "Territory": "United Kingdom",
                                    "TotalTerritorySpend": "167226.7319"
                                },
                                {
                                    "Territory": "France",
                                    "TotalTerritorySpend": "166831.1076"
                                },
                                {
                                    "Territory": "Southeast",
                                    "TotalTerritorySpend": "2434.7494"
                                },
                                {
                                    "Territory": "Central",
                                    "TotalTerritorySpend": "2288.7444"
                                },
                                {
                                    "Territory": "Northeast",
                                    "TotalTerritorySpend": "518.9431"
                                }
                            ]
                        },
                        "text/html": [
                            "<table>",
                            "<tr><th>Territory</th><th>TotalTerritorySpend</th></tr>",
                            "<tr><td>Southwest</td><td>424149.6022</td></tr>",
                            "<tr><td>Northwest</td><td>276294.7742</td></tr>",
                            "<tr><td>Australia</td><td>230087.5632</td></tr>",
                            "<tr><td>Canada</td><td>211533.7565</td></tr>",
                            "<tr><td>Germany</td><td>196730.9568</td></tr>",
                            "<tr><td>United Kingdom</td><td>167226.7319</td></tr>",
                            "<tr><td>France</td><td>166831.1076</td></tr>",
                            "<tr><td>Southeast</td><td>2434.7494</td></tr>",
                            "<tr><td>Central</td><td>2288.7444</td></tr>",
                            "<tr><td>Northeast</td><td>518.9431</td></tr>",
                            "</table>"
                        ]
                    }
                }
            ],
            "execution_count": 89
        },
        {
            "cell_type": "markdown",
            "source": [
                "### For the low-spender group, we want to take a look at the **United Kingdom** and **Germany** (European locations) details"
            ],
            "metadata": {
                "azdata_cell_guid": "f8fb189b-4cf6-4530-8a72-4a0640ac61ad"
            },
            "attachments": {}
        },
        {
            "cell_type": "code",
            "source": [
                "WITH LowSpenders AS (\n",
                "    SELECT \n",
                "        c.CustomerID,\n",
                "        SUM(s.TotalDue) AS TotalSpent\n",
                "    FROM \n",
                "        Sales.Customer c\n",
                "        JOIN Sales.SalesOrderHeader s ON c.CustomerID = s.CustomerID\n",
                "    GROUP BY \n",
                "        c.CustomerID\n",
                "    HAVING \n",
                "        SUM(s.TotalDue) < 1000\n",
                "),\n",
                "TopTerritories AS (\n",
                "    SELECT \n",
                "        st.Name AS Territory,\n",
                "        SUM(ls.TotalSpent) AS TotalTerritorySpend\n",
                "    FROM \n",
                "        LowSpenders ls\n",
                "        JOIN Sales.Customer c ON ls.CustomerID = c.CustomerID\n",
                "        JOIN Sales.SalesTerritory st ON c.TerritoryID = st.TerritoryID\n",
                "    WHERE \n",
                "        st.Name = 'United Kingdom' \n",
                "    GROUP BY \n",
                "        st.Name\n",
                ")\n",
                "SELECT \n",
                "    tt.Territory,\n",
                "    pc.Name AS ProductCategory,\n",
                "    SUM(sd.LineTotal) AS TotalSpentInCategory\n",
                "FROM \n",
                "    LowSpenders ls\n",
                "    JOIN Sales.Customer c ON ls.CustomerID = c.CustomerID\n",
                "    JOIN Sales.SalesOrderHeader soh ON c.CustomerID = soh.CustomerID\n",
                "    JOIN Sales.SalesOrderDetail sd ON soh.SalesOrderID = sd.SalesOrderID\n",
                "    JOIN Production.Product p ON sd.ProductID = p.ProductID\n",
                "    JOIN Production.ProductSubcategory psc ON p.ProductSubcategoryID = psc.ProductSubcategoryID\n",
                "    JOIN Production.ProductCategory pc ON psc.ProductCategoryID = pc.ProductCategoryID\n",
                "    JOIN Sales.SalesTerritory st ON c.TerritoryID = st.TerritoryID\n",
                "    JOIN TopTerritories tt ON st.Name = tt.Territory\n",
                "GROUP BY \n",
                "    tt.Territory, pc.Name\n",
                "ORDER BY \n",
                "    tt.Territory, TotalSpentInCategory DESC;\n",
                "\n",
                "WITH LowSpenders AS (\n",
                "    SELECT \n",
                "        c.CustomerID,\n",
                "        SUM(s.TotalDue) AS TotalSpent\n",
                "    FROM \n",
                "        Sales.Customer c\n",
                "        JOIN Sales.SalesOrderHeader s ON c.CustomerID = s.CustomerID\n",
                "    GROUP BY \n",
                "        c.CustomerID\n",
                "    HAVING \n",
                "        SUM(s.TotalDue) < 1000\n",
                "),\n",
                "TopTerritories AS (\n",
                "    SELECT \n",
                "        st.Name AS Territory,\n",
                "        SUM(ls.TotalSpent) AS TotalTerritorySpend\n",
                "    FROM \n",
                "        LowSpenders ls\n",
                "        JOIN Sales.Customer c ON ls.CustomerID = c.CustomerID\n",
                "        JOIN Sales.SalesTerritory st ON c.TerritoryID = st.TerritoryID\n",
                "    WHERE \n",
                "        st.Name = 'Germany' \n",
                "    GROUP BY \n",
                "        st.Name\n",
                ")\n",
                "SELECT \n",
                "    tt.Territory,\n",
                "    pc.Name AS ProductCategory,\n",
                "    SUM(sd.LineTotal) AS TotalSpentInCategory\n",
                "FROM \n",
                "    LowSpenders ls\n",
                "    JOIN Sales.Customer c ON ls.CustomerID = c.CustomerID\n",
                "    JOIN Sales.SalesOrderHeader soh ON c.CustomerID = soh.CustomerID\n",
                "    JOIN Sales.SalesOrderDetail sd ON soh.SalesOrderID = sd.SalesOrderID\n",
                "    JOIN Production.Product p ON sd.ProductID = p.ProductID\n",
                "    JOIN Production.ProductSubcategory psc ON p.ProductSubcategoryID = psc.ProductSubcategoryID\n",
                "    JOIN Production.ProductCategory pc ON psc.ProductCategoryID = pc.ProductCategoryID\n",
                "    JOIN Sales.SalesTerritory st ON c.TerritoryID = st.TerritoryID\n",
                "    JOIN TopTerritories tt ON st.Name = tt.Territory\n",
                "GROUP BY \n",
                "    tt.Territory, pc.Name\n",
                "ORDER BY \n",
                "    tt.Territory, TotalSpentInCategory DESC;\n",
                "    \n",
                "    "
            ],
            "metadata": {
                "azdata_cell_guid": "0741a600-53f5-43e2-8293-b8d19b53b254",
                "language": "sql"
            },
            "outputs": [
                {
                    "output_type": "display_data",
                    "data": {
                        "text/html": "(4 rows affected)"
                    },
                    "metadata": {}
                },
                {
                    "output_type": "display_data",
                    "data": {
                        "text/html": "(4 rows affected)"
                    },
                    "metadata": {}
                },
                {
                    "output_type": "display_data",
                    "data": {
                        "text/html": "Total execution time: 00:00:00.370"
                    },
                    "metadata": {}
                },
                {
                    "output_type": "execute_result",
                    "metadata": {},
                    "execution_count": 101,
                    "data": {
                        "application/vnd.dataresource+json": {
                            "schema": {
                                "fields": [
                                    {
                                        "name": "Territory"
                                    },
                                    {
                                        "name": "ProductCategory"
                                    },
                                    {
                                        "name": "TotalSpentInCategory"
                                    }
                                ]
                            },
                            "data": [
                                {
                                    "Territory": "United Kingdom",
                                    "ProductCategory": "Bikes",
                                    "TotalSpentInCategory": "88646.864000"
                                },
                                {
                                    "Territory": "United Kingdom",
                                    "ProductCategory": "Accessories",
                                    "TotalSpentInCategory": "44927.790000"
                                },
                                {
                                    "Territory": "United Kingdom",
                                    "ProductCategory": "Clothing",
                                    "TotalSpentInCategory": "16862.636000"
                                },
                                {
                                    "Territory": "United Kingdom",
                                    "ProductCategory": "Components",
                                    "TotalSpentInCategory": "871.128000"
                                }
                            ]
                        },
                        "text/html": [
                            "<table>",
                            "<tr><th>Territory</th><th>ProductCategory</th><th>TotalSpentInCategory</th></tr>",
                            "<tr><td>United Kingdom</td><td>Bikes</td><td>88646.864000</td></tr>",
                            "<tr><td>United Kingdom</td><td>Accessories</td><td>44927.790000</td></tr>",
                            "<tr><td>United Kingdom</td><td>Clothing</td><td>16862.636000</td></tr>",
                            "<tr><td>United Kingdom</td><td>Components</td><td>871.128000</td></tr>",
                            "</table>"
                        ]
                    }
                },
                {
                    "output_type": "execute_result",
                    "metadata": {},
                    "execution_count": 101,
                    "data": {
                        "application/vnd.dataresource+json": {
                            "schema": {
                                "fields": [
                                    {
                                        "name": "Territory"
                                    },
                                    {
                                        "name": "ProductCategory"
                                    },
                                    {
                                        "name": "TotalSpentInCategory"
                                    }
                                ]
                            },
                            "data": [
                                {
                                    "Territory": "Germany",
                                    "ProductCategory": "Bikes",
                                    "TotalSpentInCategory": "129103.150000"
                                },
                                {
                                    "Territory": "Germany",
                                    "ProductCategory": "Accessories",
                                    "TotalSpentInCategory": "37177.200000"
                                },
                                {
                                    "Territory": "Germany",
                                    "ProductCategory": "Clothing",
                                    "TotalSpentInCategory": "11523.040000"
                                },
                                {
                                    "Territory": "Germany",
                                    "ProductCategory": "Components",
                                    "TotalSpentInCategory": "228.582000"
                                }
                            ]
                        },
                        "text/html": [
                            "<table>",
                            "<tr><th>Territory</th><th>ProductCategory</th><th>TotalSpentInCategory</th></tr>",
                            "<tr><td>Germany</td><td>Bikes</td><td>129103.150000</td></tr>",
                            "<tr><td>Germany</td><td>Accessories</td><td>37177.200000</td></tr>",
                            "<tr><td>Germany</td><td>Clothing</td><td>11523.040000</td></tr>",
                            "<tr><td>Germany</td><td>Components</td><td>228.582000</td></tr>",
                            "</table>"
                        ]
                    }
                }
            ],
            "execution_count": 101
        },
        {
            "cell_type": "markdown",
            "source": [
                "### Now, we want to take a look at the detail in **Clothing** product Category at United Kingdom territory"
            ],
            "metadata": {
                "azdata_cell_guid": "ed4dac75-600c-49ae-9819-688a90cd0275"
            },
            "attachments": {}
        },
        {
            "cell_type": "code",
            "source": [
                "WITH LowSpenders AS (\n",
                "    SELECT \n",
                "        c.CustomerID,\n",
                "        SUM(s.TotalDue) AS TotalSpent\n",
                "    FROM \n",
                "        Sales.Customer c\n",
                "        JOIN Sales.SalesOrderHeader s ON c.CustomerID = s.CustomerID\n",
                "    GROUP BY \n",
                "        c.CustomerID\n",
                "    HAVING \n",
                "        SUM(s.TotalDue) < 1000\n",
                "),\n",
                "TopTerritories AS (\n",
                "    SELECT \n",
                "        st.Name AS Territory,\n",
                "        SUM(ls.TotalSpent) AS TotalTerritorySpend\n",
                "    FROM \n",
                "        LowSpenders ls\n",
                "        JOIN Sales.Customer c ON ls.CustomerID = c.CustomerID\n",
                "        JOIN Sales.SalesTerritory st ON c.TerritoryID = st.TerritoryID\n",
                "    GROUP BY \n",
                "        st.Name\n",
                ")\n",
                "SELECT TOP(5)\n",
                "    tt.Territory,\n",
                "    p.Name AS ClothingItem,\n",
                "    SUM(sd.LineTotal) AS TotalSpentOnClothing\n",
                "FROM \n",
                "    LowSpenders ls\n",
                "    JOIN Sales.Customer c ON ls.CustomerID = c.CustomerID\n",
                "    JOIN Sales.SalesOrderHeader soh ON c.CustomerID = soh.CustomerID\n",
                "    JOIN Sales.SalesOrderDetail sd ON soh.SalesOrderID = sd.SalesOrderID\n",
                "    JOIN Production.Product p ON sd.ProductID = p.ProductID\n",
                "    JOIN Production.ProductSubcategory psc ON p.ProductSubcategoryID = psc.ProductSubcategoryID\n",
                "    JOIN Production.ProductCategory pc ON psc.ProductCategoryID = pc.ProductCategoryID\n",
                "    JOIN Sales.SalesTerritory st ON c.TerritoryID = st.TerritoryID\n",
                "    JOIN TopTerritories tt ON st.Name = tt.Territory\n",
                "WHERE \n",
                "    st.Name = 'United Kingdom' \n",
                "    AND pc.Name = 'Clothing'\n",
                "GROUP BY \n",
                "    tt.Territory, p.Name\n",
                "ORDER BY \n",
                "    tt.Territory, TotalSpentOnClothing DESC;"
            ],
            "metadata": {
                "azdata_cell_guid": "e8676922-e039-4123-b97e-6005e6703233",
                "language": "sql"
            },
            "outputs": [
                {
                    "output_type": "display_data",
                    "data": {
                        "text/html": "(5 rows affected)"
                    },
                    "metadata": {}
                },
                {
                    "output_type": "display_data",
                    "data": {
                        "text/html": "Total execution time: 00:00:00.094"
                    },
                    "metadata": {}
                },
                {
                    "output_type": "execute_result",
                    "metadata": {},
                    "execution_count": 111,
                    "data": {
                        "application/vnd.dataresource+json": {
                            "schema": {
                                "fields": [
                                    {
                                        "name": "Territory"
                                    },
                                    {
                                        "name": "ClothingItem"
                                    },
                                    {
                                        "name": "TotalSpentOnClothing"
                                    }
                                ]
                            },
                            "data": [
                                {
                                    "Territory": "United Kingdom",
                                    "ClothingItem": "Long-Sleeve Logo Jersey, L",
                                    "TotalSpentOnClothing": "1769.646000"
                                },
                                {
                                    "Territory": "United Kingdom",
                                    "ClothingItem": "Long-Sleeve Logo Jersey, M",
                                    "TotalSpentOnClothing": "1649.670000"
                                },
                                {
                                    "Territory": "United Kingdom",
                                    "ClothingItem": "AWC Logo Cap",
                                    "TotalSpentOnClothing": "1402.440000"
                                },
                                {
                                    "Territory": "United Kingdom",
                                    "ClothingItem": "Long-Sleeve Logo Jersey, S",
                                    "TotalSpentOnClothing": "1149.770000"
                                },
                                {
                                    "Territory": "United Kingdom",
                                    "ClothingItem": "Women's Mountain Shorts, L",
                                    "TotalSpentOnClothing": "1119.840000"
                                }
                            ]
                        },
                        "text/html": [
                            "<table>",
                            "<tr><th>Territory</th><th>ClothingItem</th><th>TotalSpentOnClothing</th></tr>",
                            "<tr><td>United Kingdom</td><td>Long-Sleeve Logo Jersey, L</td><td>1769.646000</td></tr>",
                            "<tr><td>United Kingdom</td><td>Long-Sleeve Logo Jersey, M</td><td>1649.670000</td></tr>",
                            "<tr><td>United Kingdom</td><td>AWC Logo Cap</td><td>1402.440000</td></tr>",
                            "<tr><td>United Kingdom</td><td>Long-Sleeve Logo Jersey, S</td><td>1149.770000</td></tr>",
                            "<tr><td>United Kingdom</td><td>Women&#39;s Mountain Shorts, L</td><td>1119.840000</td></tr>",
                            "</table>"
                        ]
                    }
                }
            ],
            "execution_count": 111
        },
        {
            "cell_type": "markdown",
            "source": [
                "### **<mark>Insight</mark>**: Long-Sleeve Logo Jersey in different sizes, AWC Logo Cap, and Women's Mountain Shorts in size L are among United Kingdom's top 5 clothing sales."
            ],
            "metadata": {
                "azdata_cell_guid": "d28cd2d0-96e0-4f78-880c-66e265ff746f"
            },
            "attachments": {}
        },
        {
            "cell_type": "code",
            "source": [
                "WITH LowSpenders AS (\n",
                "    SELECT \n",
                "        c.CustomerID,\n",
                "        SUM(s.TotalDue) AS TotalSpent\n",
                "    FROM \n",
                "        Sales.Customer c\n",
                "        JOIN Sales.SalesOrderHeader s ON c.CustomerID = s.CustomerID\n",
                "    GROUP BY \n",
                "        c.CustomerID\n",
                "    HAVING \n",
                "        SUM(s.TotalDue) < 1000\n",
                "),\n",
                "TopTerritories AS (\n",
                "    SELECT \n",
                "        st.Name AS Territory,\n",
                "        SUM(ls.TotalSpent) AS TotalTerritorySpend\n",
                "    FROM \n",
                "        LowSpenders ls\n",
                "        JOIN Sales.Customer c ON ls.CustomerID = c.CustomerID\n",
                "        JOIN Sales.SalesTerritory st ON c.TerritoryID = st.TerritoryID\n",
                "    GROUP BY \n",
                "        st.Name\n",
                ")\n",
                "SELECT TOP(5)\n",
                "    tt.Territory,\n",
                "    p.Name AS ClothingItem,\n",
                "    SUM(sd.LineTotal) AS TotalSpentOnClothing\n",
                "FROM \n",
                "    LowSpenders ls\n",
                "    JOIN Sales.Customer c ON ls.CustomerID = c.CustomerID\n",
                "    JOIN Sales.SalesOrderHeader soh ON c.CustomerID = soh.CustomerID\n",
                "    JOIN Sales.SalesOrderDetail sd ON soh.SalesOrderID = sd.SalesOrderID\n",
                "    JOIN Production.Product p ON sd.ProductID = p.ProductID\n",
                "    JOIN Production.ProductSubcategory psc ON p.ProductSubcategoryID = psc.ProductSubcategoryID\n",
                "    JOIN Production.ProductCategory pc ON psc.ProductCategoryID = pc.ProductCategoryID\n",
                "    JOIN Sales.SalesTerritory st ON c.TerritoryID = st.TerritoryID\n",
                "    JOIN TopTerritories tt ON st.Name = tt.Territory\n",
                "WHERE \n",
                "    st.Name = 'Germany' \n",
                "    AND pc.Name = 'Clothing'\n",
                "GROUP BY \n",
                "    tt.Territory, p.Name\n",
                "ORDER BY \n",
                "    tt.Territory, TotalSpentOnClothing DESC;"
            ],
            "metadata": {
                "azdata_cell_guid": "de61cfdd-4c63-4229-8902-1dbf4eb40d52",
                "language": "sql"
            },
            "outputs": [
                {
                    "output_type": "display_data",
                    "data": {
                        "text/html": "(5 rows affected)"
                    },
                    "metadata": {}
                },
                {
                    "output_type": "display_data",
                    "data": {
                        "text/html": "Total execution time: 00:00:00.150"
                    },
                    "metadata": {}
                },
                {
                    "output_type": "execute_result",
                    "metadata": {},
                    "execution_count": 110,
                    "data": {
                        "application/vnd.dataresource+json": {
                            "schema": {
                                "fields": [
                                    {
                                        "name": "Territory"
                                    },
                                    {
                                        "name": "ClothingItem"
                                    },
                                    {
                                        "name": "TotalSpentOnClothing"
                                    }
                                ]
                            },
                            "data": [
                                {
                                    "Territory": "Germany",
                                    "ClothingItem": "Long-Sleeve Logo Jersey, M",
                                    "TotalSpentOnClothing": "1549.690000"
                                },
                                {
                                    "Territory": "Germany",
                                    "ClothingItem": "Long-Sleeve Logo Jersey, L",
                                    "TotalSpentOnClothing": "1249.750000"
                                },
                                {
                                    "Territory": "Germany",
                                    "ClothingItem": "AWC Logo Cap",
                                    "TotalSpentOnClothing": "1231.630000"
                                },
                                {
                                    "Territory": "Germany",
                                    "ClothingItem": "Short-Sleeve Classic Jersey, XL",
                                    "TotalSpentOnClothing": "863.840000"
                                },
                                {
                                    "Territory": "Germany",
                                    "ClothingItem": "Long-Sleeve Logo Jersey, S",
                                    "TotalSpentOnClothing": "849.830000"
                                }
                            ]
                        },
                        "text/html": [
                            "<table>",
                            "<tr><th>Territory</th><th>ClothingItem</th><th>TotalSpentOnClothing</th></tr>",
                            "<tr><td>Germany</td><td>Long-Sleeve Logo Jersey, M</td><td>1549.690000</td></tr>",
                            "<tr><td>Germany</td><td>Long-Sleeve Logo Jersey, L</td><td>1249.750000</td></tr>",
                            "<tr><td>Germany</td><td>AWC Logo Cap</td><td>1231.630000</td></tr>",
                            "<tr><td>Germany</td><td>Short-Sleeve Classic Jersey, XL</td><td>863.840000</td></tr>",
                            "<tr><td>Germany</td><td>Long-Sleeve Logo Jersey, S</td><td>849.830000</td></tr>",
                            "</table>"
                        ]
                    }
                }
            ],
            "execution_count": 110
        },
        {
            "cell_type": "markdown",
            "source": [
                "### **<mark>Insight</mark>**: Long-Sleeve Logo Jersey in different sizes, AWC Logo Cap, and Short-Sleeve Classic Jersey in size XL are among Germany's top 5 clothing sales."
            ],
            "metadata": {
                "azdata_cell_guid": "2f6a680a-0b12-4062-a2fb-c3a92afd0ed4"
            },
            "attachments": {}
        }
    ]
}